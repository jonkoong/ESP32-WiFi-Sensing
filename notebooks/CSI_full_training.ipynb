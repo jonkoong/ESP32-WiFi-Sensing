{
  "nbformat": 4,
  "nbformat_minor": 0,
  "metadata": {
    "colab": {
      "provenance": []
    },
    "kernelspec": {
      "name": "python3",
      "display_name": "Python 3"
    },
    "language_info": {
      "name": "python"
    }
  },
  "cells": [
    {
      "cell_type": "markdown",
      "source": [
        "## Environment prep"
      ],
      "metadata": {
        "id": "UjBBVPcQOuJs"
      }
    },
    {
      "cell_type": "code",
      "execution_count": null,
      "metadata": {
        "colab": {
          "base_uri": "https://localhost:8080/"
        },
        "id": "JkaieB3DCpeM",
        "outputId": "a94ef2fa-52ce-45fa-e95c-99fb6de38d9d"
      },
      "outputs": [
        {
          "output_type": "stream",
          "name": "stdout",
          "text": [
            "Requirement already satisfied: hampel in /usr/local/lib/python3.10/dist-packages (1.0.2)\n",
            "Requirement already satisfied: numpy>=1.17.3 in /usr/local/lib/python3.10/dist-packages (from hampel) (1.23.5)\n",
            "Requirement already satisfied: pandas in /usr/local/lib/python3.10/dist-packages (from hampel) (1.5.3)\n",
            "Requirement already satisfied: python-dateutil>=2.8.1 in /usr/local/lib/python3.10/dist-packages (from pandas->hampel) (2.8.2)\n",
            "Requirement already satisfied: pytz>=2020.1 in /usr/local/lib/python3.10/dist-packages (from pandas->hampel) (2023.3.post1)\n",
            "Requirement already satisfied: six>=1.5 in /usr/local/lib/python3.10/dist-packages (from python-dateutil>=2.8.1->pandas->hampel) (1.16.0)\n"
          ]
        }
      ],
      "source": [
        "!pip install hampel"
      ]
    },
    {
      "cell_type": "code",
      "source": [
        "from hampel import hampel\n",
        "import numpy as np\n",
        "from scipy.signal import savgol_filter\n",
        "import pandas as pd\n",
        "import os\n",
        "import matplotlib.pyplot as plt\n",
        "import re\n",
        "from math import sqrt, atan2"
      ],
      "metadata": {
        "id": "b0vXd76kDOV5"
      },
      "execution_count": null,
      "outputs": []
    },
    {
      "cell_type": "markdown",
      "source": [
        "## Load all data into a list of dataframes"
      ],
      "metadata": {
        "id": "7SA5c-mJMaMS"
      }
    },
    {
      "cell_type": "code",
      "source": [
        "# Specify the path to your main folder\n",
        "main_folder_path = '/content/drive/MyDrive/Wifi_Exercise_Dataset/tvat-raw/sess2'\n",
        "\n",
        "# Initialize an empty dictionary to store lists of DataFrames for each activity\n",
        "activity_dataframes = []\n",
        "label_list = []\n",
        "\n",
        "# Iterate through subfolders\n",
        "for activity_folder in os.listdir(main_folder_path):\n",
        "    activity_folder_path = os.path.join(main_folder_path, activity_folder)\n",
        "    # Check if it's a directory\n",
        "    if os.path.isdir(activity_folder_path):\n",
        "        # Iterate through files in the subfolder\n",
        "        for file_name in os.listdir(activity_folder_path):\n",
        "            if file_name.endswith('.csv'):\n",
        "                file_path = os.path.join(activity_folder_path, file_name)\n",
        "                label_list.append(activity_folder)\n",
        "                # Read the data from each CSV file into a DataFrame\n",
        "                df = pd.read_csv(file_path)\n",
        "                activity_dataframes.append(df)\n"
      ],
      "metadata": {
        "id": "Q3fhbXqVEEN8"
      },
      "execution_count": null,
      "outputs": []
    },
    {
      "cell_type": "code",
      "source": [
        "print(len(activity_dataframes))"
      ],
      "metadata": {
        "colab": {
          "base_uri": "https://localhost:8080/"
        },
        "id": "2LQnzG7YPjSL",
        "outputId": "ef30cf29-f02a-4b74-b581-8736754d4ef1"
      },
      "execution_count": null,
      "outputs": [
        {
          "output_type": "stream",
          "name": "stdout",
          "text": [
            "35\n"
          ]
        }
      ]
    },
    {
      "cell_type": "markdown",
      "source": [
        "## Extract amplitude from dataframes"
      ],
      "metadata": {
        "id": "E_DodshEOouC"
      }
    },
    {
      "cell_type": "code",
      "source": [
        "amp_dataframes = []\n",
        "# Loop through each file\n",
        "for df in activity_dataframes:\n",
        "    # Construct the full path to the file\n",
        "    data = []\n",
        "    for _, row in df.iterrows():\n",
        "      imaginary = []\n",
        "      real = []\n",
        "      amplitudes = []\n",
        "\n",
        "        # Parse string to create integer list\n",
        "      csi_string = re.findall(r\"\\[(.*)\\]\", row['CSI_DATA'])[0]\n",
        "      csi_raw = [int(x) for x in csi_string.split(\" \") if x != '']\n",
        "\n",
        "        # Create list of imaginary and real numbers from CSI\n",
        "      for i in range(len(csi_raw)):\n",
        "          if i % 2 == 0:\n",
        "              imaginary.append(csi_raw[i])\n",
        "          else:\n",
        "              real.append(csi_raw[i])\n",
        "\n",
        "        # Transform imaginary and real into amplitude and phase\n",
        "      for i in range(int(len(csi_raw) / 2)):\n",
        "          amplitudes.append(sqrt(imaginary[i] ** 2 + real[i] ** 2))\n",
        "      data.append(amplitudes)\n",
        "    temp_df = pd.DataFrame(data)\n",
        "    amp_dataframes.append(temp_df)\n",
        "\n"
      ],
      "metadata": {
        "id": "TULzmCayM5ib"
      },
      "execution_count": null,
      "outputs": []
    },
    {
      "cell_type": "code",
      "source": [
        "print(len(amp_dataframes))\n",
        "print(len(label_list))"
      ],
      "metadata": {
        "colab": {
          "base_uri": "https://localhost:8080/"
        },
        "id": "XMeypuKdQxaD",
        "outputId": "05be0a3f-04f4-443a-9da5-93ac0fb5bafc"
      },
      "execution_count": null,
      "outputs": [
        {
          "output_type": "stream",
          "name": "stdout",
          "text": [
            "35\n",
            "35\n"
          ]
        }
      ]
    },
    {
      "cell_type": "code",
      "source": [
        "print(label_list)"
      ],
      "metadata": {
        "colab": {
          "base_uri": "https://localhost:8080/"
        },
        "id": "zvMLjCS9b-pE",
        "outputId": "e964a267-d788-45d4-98d0-06f2bb287840"
      },
      "execution_count": null,
      "outputs": [
        {
          "output_type": "stream",
          "name": "stdout",
          "text": [
            "['LL', 'LL', 'LL', 'LL', 'LL', 'LA', 'LA', 'LA', 'LA', 'LA', 'JJ', 'JJ', 'JJ', 'JJ', 'JJ', 'RL', 'RL', 'RL', 'RL', 'RL', 'RA', 'RA', 'RA', 'RA', 'RA', 'NA', 'NA', 'NA', 'NA', 'NA', 'SO', 'SO', 'SO', 'SO', 'SO']\n"
          ]
        }
      ]
    },
    {
      "cell_type": "code",
      "source": [
        "print(amp_dataframes[1].shape)"
      ],
      "metadata": {
        "colab": {
          "base_uri": "https://localhost:8080/"
        },
        "id": "Hwk9DIgGRm4J",
        "outputId": "286c3495-c3e2-42af-defa-6f4c6925e229"
      },
      "execution_count": null,
      "outputs": [
        {
          "output_type": "stream",
          "name": "stdout",
          "text": [
            "(5499, 64)\n"
          ]
        }
      ]
    },
    {
      "cell_type": "code",
      "source": [
        "plt.figure(figsize=(8, 6))\n",
        "plt.plot(amp_dataframes[2][50],color='g')\n",
        "plt.xlabel('Index')\n",
        "plt.ylabel('Amplitude')\n",
        "plt.title('Raw CSI Amplitude Data: LL')\n",
        "plt.show()"
      ],
      "metadata": {
        "colab": {
          "base_uri": "https://localhost:8080/",
          "height": 564
        },
        "id": "-on3aGyaccVp",
        "outputId": "3357164b-298c-4595-9ac9-0cf98fa4a722"
      },
      "execution_count": null,
      "outputs": [
        {
          "output_type": "display_data",
          "data": {
            "text/plain": [
              "<Figure size 800x600 with 1 Axes>"
            ],
            "image/png": "[encoded data removed]"
          },
          "metadata": {}
        }
      ]
    },
    {
      "cell_type": "code",
      "source": [
        "print(amp_dataframes[2][50].head(10))"
      ],
      "metadata": {
        "colab": {
          "base_uri": "https://localhost:8080/"
        },
        "id": "EEoh9GOhi16_",
        "outputId": "f19b6090-46ba-43e9-dcee-929e00a9cc5b"
      },
      "execution_count": null,
      "outputs": [
        {
          "output_type": "stream",
          "name": "stdout",
          "text": [
            "0    18.457302\n",
            "1    19.620071\n",
            "2    17.701004\n",
            "3    22.376179\n",
            "4    26.404198\n",
            "5    32.046898\n",
            "6    21.221924\n",
            "7    11.565775\n",
            "8     9.276746\n",
            "9    15.720640\n",
            "Name: 50, dtype: float32\n"
          ]
        }
      ]
    },
    {
      "cell_type": "markdown",
      "source": [
        "## Apply noise filter"
      ],
      "metadata": {
        "id": "Gd67kw2pQ69f"
      }
    },
    {
      "cell_type": "code",
      "source": [
        "denoised_dataframes = []\n",
        "for amplitude in amp_dataframes:\n",
        "    filtered_data = pd.DataFrame()\n",
        "    for col in amplitude.columns:\n",
        "      col_series = amplitude[col]\n",
        "      # Hampel filter\n",
        "      hampel_filtered = hampel(col_series, window_size=10)\n",
        "      # Savitzky-Golay filter\n",
        "      sg_filtered = savgol_filter(hampel_filtered.filtered_data, window_length=10, polyorder=3)\n",
        "      filtered_data[col] = sg_filtered\n",
        "    denoised_dataframes.append(filtered_data)\n"
      ],
      "metadata": {
        "id": "DtYC8bHcRE_O"
      },
      "execution_count": null,
      "outputs": []
    },
    {
      "cell_type": "code",
      "source": [
        "print(len(denoised_dataframes))"
      ],
      "metadata": {
        "colab": {
          "base_uri": "https://localhost:8080/"
        },
        "id": "Ks8lIghDaLiX",
        "outputId": "022d65be-204e-4a72-fa05-cec1fe55548c"
      },
      "execution_count": null,
      "outputs": [
        {
          "output_type": "stream",
          "name": "stdout",
          "text": [
            "35\n"
          ]
        }
      ]
    },
    {
      "cell_type": "code",
      "source": [
        "path = '/content/drive/MyDrive/Wifi_Exercise_Dataset/tvat-filtered-2/'\n",
        "for i, dataframe in enumerate(denoised_dataframes):\n",
        "  filename = f\"{label_list[i]}-{i+1}.csv\"\n",
        "  dataframe.to_csv(path+filename, index=False)\n"
      ],
      "metadata": {
        "id": "6LagogloaUfO"
      },
      "execution_count": null,
      "outputs": []
    },
    {
      "cell_type": "code",
      "source": [
        "plt.figure(figsize=(8, 6))\n",
        "plt.plot(denoised_dataframes[2][50],color='g')\n",
        "plt.xlabel('Index')\n",
        "plt.ylabel('Amplitude')\n",
        "plt.title('Denoise CSI Amplitude Data: LL')\n",
        "plt.show()"
      ],
      "metadata": {
        "colab": {
          "base_uri": "https://localhost:8080/",
          "height": 564
        },
        "id": "tN_iVNj-cS-x",
        "outputId": "88d4570a-9124-4ca0-d837-48802232e496"
      },
      "execution_count": null,
      "outputs": [
        {
          "output_type": "display_data",
          "data": {
            "text/plain": [
              "<Figure size 800x600 with 1 Axes>"
            ],
            "image/png": "[encoded data removed]"
          },
          "metadata": {}
        }
      ]
    },
    {
      "cell_type": "code",
      "source": [
        "print(denoised_dataframes[2][50].head(10))"
      ],
      "metadata": {
        "colab": {
          "base_uri": "https://localhost:8080/"
        },
        "id": "NP4grm8Vi6G7",
        "outputId": "2172135d-cbaf-4b36-f5e5-2a3cc39828aa"
      },
      "execution_count": null,
      "outputs": [
        {
          "output_type": "stream",
          "name": "stdout",
          "text": [
            "0    18.698980\n",
            "1    18.653358\n",
            "2    19.151073\n",
            "3    21.561615\n",
            "4    28.147985\n",
            "5    28.985281\n",
            "6    22.202341\n",
            "7    11.979988\n",
            "8    10.607816\n",
            "9    14.241845\n",
            "Name: 50, dtype: float32\n"
          ]
        }
      ]
    },
    {
      "cell_type": "code",
      "source": [
        "\n",
        "columns_to_drop = [2,3,4,5,32,59,60,61,62,63]\n",
        "for df in amp_dataframes:\n",
        "    df.drop(df.columns[columns_to_drop], axis=1,inplace=True)\n"
      ],
      "metadata": {
        "id": "Hu5dkwojjFiM"
      },
      "execution_count": null,
      "outputs": []
    },
    {
      "cell_type": "markdown",
      "source": [
        "## Segmentation"
      ],
      "metadata": {
        "id": "5pKhFctwrV85"
      }
    },
    {
      "cell_type": "code",
      "source": [
        "segment_dataframes = []\n",
        "labels = []\n",
        "for i, df in enumerate(amp_dataframes):\n",
        "  df_len = len(df)\n",
        "  #df['label'] = label_list[i]\n",
        "  df.drop(df.columns[-1],axis=1,inplace=True)\n",
        "  segment_len = (df_len//200)*200\n",
        "  rows_to_skip = len(df) - segment_len\n",
        "  rounded_df = df.iloc[rows_to_skip:]\n",
        "  segment_df = np.array_split(rounded_df, range(200, len(rounded_df), 200))\n",
        "  for segment in segment_df:\n",
        "    segment_dataframes.append(segment)\n",
        "    labels.append(label_list[i])\n"
      ],
      "metadata": {
        "id": "kckzGpPxqcsq"
      },
      "execution_count": null,
      "outputs": []
    },
    {
      "cell_type": "code",
      "source": [
        "print(len(segment_dataframes))\n",
        "print(len(labels))"
      ],
      "metadata": {
        "colab": {
          "base_uri": "https://localhost:8080/"
        },
        "id": "Dfo2HPT3rRyM",
        "outputId": "1b36f33f-1ced-4b95-90e2-b32fa52783f6"
      },
      "execution_count": null,
      "outputs": [
        {
          "output_type": "stream",
          "name": "stdout",
          "text": [
            "1165\n",
            "1165\n"
          ]
        }
      ]
    },
    {
      "cell_type": "code",
      "source": [
        "print(segment_dataframes[3])"
      ],
      "metadata": {
        "colab": {
          "base_uri": "https://localhost:8080/"
        },
        "id": "2UC2Q53UrUuI",
        "outputId": "241d9610-d9c0-45f0-fe1d-6c1f5fb95336"
      },
      "execution_count": null,
      "outputs": [
        {
          "output_type": "stream",
          "name": "stdout",
          "text": [
            "             0    1          6          7          8          9          10  \\\n",
            "707  105.603027  4.0   8.173367   8.133499   8.326377   8.740322   7.184147   \n",
            "708  105.603027  4.0   9.278374   9.154801   9.758579   9.858769   8.280706   \n",
            "709  105.603027  4.0  10.472335  10.105364  11.024837  10.883145   9.284912   \n",
            "710  105.603027  4.0  11.432827  10.822251  11.795613  11.734648  10.154380   \n",
            "711  105.603027  4.0  12.009859  11.320781  12.147852  12.627798  11.046046   \n",
            "..          ...  ...        ...        ...        ...        ...        ...   \n",
            "902  105.603027  4.0  13.257929  13.591935  13.837964  11.777891  13.320248   \n",
            "903  105.603027  4.0  13.748153  13.663969  13.645518  12.271646  13.386294   \n",
            "904  105.603027  4.0  14.052884  13.228633  13.415762  13.017454  13.548595   \n",
            "905  105.603027  4.0  14.292799  12.408063  13.168546  13.744004  13.720463   \n",
            "906  105.603027  4.0  14.412230  12.245303  13.675761  14.095879  13.828314   \n",
            "\n",
            "            11         12         13  ...         49         50         51  \\\n",
            "707   8.506247   7.887469   7.291911  ...  14.014338  12.634542  12.955715   \n",
            "708   9.601262   9.100108   8.349069  ...  16.228409  14.903851  15.473053   \n",
            "709  10.399705  10.265749   9.388201  ...  18.126722  17.075666  17.779551   \n",
            "710  10.808727  10.952444  10.510068  ...  19.879551  19.178291  19.566776   \n",
            "711  10.949601  11.518963  11.516247  ...  21.316050  21.045580  21.290985   \n",
            "..         ...        ...        ...  ...        ...        ...        ...   \n",
            "902  13.125122  12.435912  13.317972  ...  21.961056  18.476559  21.697018   \n",
            "903  12.502415  12.526650  13.327037  ...  21.790676  18.881256  22.947710   \n",
            "904  12.394423  12.899781  13.637056  ...  21.007183  19.423594  23.860151   \n",
            "905  11.799529  13.133120  13.551046  ...  20.172842  19.970552  24.295597   \n",
            "906  12.359404  13.238631  13.357249  ...  19.389967  20.785234  24.086155   \n",
            "\n",
            "            52         53         54         55         56         57  \\\n",
            "707  12.011636  12.279735  12.129769  10.873924  11.639727  11.209313   \n",
            "708  14.383349  14.394574  14.129064  12.776972  13.954641  12.968016   \n",
            "709  16.719925  16.461145  15.810360  14.664546  16.238291  14.368126   \n",
            "710  18.647646  18.080505  17.105061  16.349041  17.937729  15.533195   \n",
            "711  20.129019  19.416107  18.190678  17.891041  19.075439  16.321272   \n",
            "..         ...        ...        ...        ...        ...        ...   \n",
            "902  21.408957  17.776861  17.177834  17.163923  19.762461  13.881291   \n",
            "903  22.548151  18.072971  17.266750  17.585251  20.789518  14.520208   \n",
            "904  23.425602  18.412746  17.461189  18.118626  21.471973  15.266745   \n",
            "905  23.898790  19.109076  17.867743  18.587252  21.501049  16.015675   \n",
            "906  23.835896  20.010479  18.348932  18.989626  20.954636  16.864086   \n",
            "\n",
            "            58  \n",
            "707  10.601340  \n",
            "708  12.189596  \n",
            "709  13.735302  \n",
            "710  14.898383  \n",
            "711  15.935585  \n",
            "..         ...  \n",
            "902  13.919153  \n",
            "903  14.324254  \n",
            "904  14.994957  \n",
            "905  15.798618  \n",
            "906  16.536531  \n",
            "\n",
            "[200 rows x 54 columns]\n"
          ]
        }
      ]
    },
    {
      "cell_type": "markdown",
      "source": [
        "## CNN Model"
      ],
      "metadata": {
        "id": "EGGvE29xrgHd"
      }
    },
    {
      "cell_type": "code",
      "source": [
        "# Convert DataFrames to matrices\n",
        "matrix_list = [df.values for df in segment_dataframes]\n",
        "\n",
        "# Stack matrices vertically\n",
        "stacked_matrix = np.vstack(matrix_list)"
      ],
      "metadata": {
        "id": "fwgofDXZsY_V"
      },
      "execution_count": null,
      "outputs": []
    },
    {
      "cell_type": "code",
      "source": [
        "dataset_array = np.concatenate(segment_dataframes, axis=0)"
      ],
      "metadata": {
        "id": "it0FfKgiuIGE"
      },
      "execution_count": null,
      "outputs": []
    },
    {
      "cell_type": "code",
      "source": [
        "print(matrix_list.shape)"
      ],
      "metadata": {
        "colab": {
          "base_uri": "https://localhost:8080/",
          "height": 175
        },
        "id": "Ku2VFs-iuV8A",
        "outputId": "abc841df-0a02-4562-9100-4bec257f0d41"
      },
      "execution_count": null,
      "outputs": [
        {
          "output_type": "error",
          "ename": "AttributeError",
          "evalue": "ignored",
          "traceback": [
            "\u001b[0;31m---------------------------------------------------------------------------\u001b[0m",
            "\u001b[0;31mAttributeError\u001b[0m                            Traceback (most recent call last)",
            "\u001b[0;32m<ipython-input-70-18d103a88eb4>\u001b[0m in \u001b[0;36m<cell line: 1>\u001b[0;34m()\u001b[0m\n\u001b[0;32m----> 1\u001b[0;31m \u001b[0mprint\u001b[0m\u001b[0;34m(\u001b[0m\u001b[0mmatrix_list\u001b[0m\u001b[0;34m.\u001b[0m\u001b[0mshape\u001b[0m\u001b[0;34m)\u001b[0m\u001b[0;34m\u001b[0m\u001b[0;34m\u001b[0m\u001b[0m\n\u001b[0m",
            "\u001b[0;31mAttributeError\u001b[0m: 'list' object has no attribute 'shape'"
          ]
        }
      ]
    },
    {
      "cell_type": "code",
      "source": [
        "print(stacked_matrix)"
      ],
      "metadata": {
        "colab": {
          "base_uri": "https://localhost:8080/"
        },
        "id": "w64LxJ12t6QE",
        "outputId": "aaa34617-cc84-477b-e960-21841d7a5de6"
      },
      "execution_count": null,
      "outputs": [
        {
          "output_type": "stream",
          "name": "stdout",
          "text": [
            "[[105.60303    4.         6.57814  ...  12.091852   8.917306  10.116916]\n",
            " [105.60303    4.         5.430165 ...  14.221633   9.903031  10.61797 ]\n",
            " [105.60303    4.         5.929819 ...  16.012304  10.760431  11.114534]\n",
            " ...\n",
            " [105.60303    4.        25.059336 ...  10.095553  11.091435  11.671971]\n",
            " [105.60303    4.        25.34694  ...   9.564811  11.037096  10.249299]\n",
            " [105.60303    4.        26.890959 ...   8.700585  10.980692   7.960748]]\n"
          ]
        }
      ]
    },
    {
      "cell_type": "code",
      "source": [
        "from sklearn.model_selection import train_test_split\n",
        "labels = np.array(labels)\n",
        "\n",
        "X_train, X_test, y_train, y_test = train_test_split(segment_dataframes, labels, test_size=0.3, random_state=42)\n",
        "\n",
        "X_train = np.array(X_train)\n",
        "X_train = X_train.astype('float32')\n",
        "X_train /= 255\n",
        "X_test = np.array(X_test)\n",
        "X_test = X_test.astype('float32')\n",
        "X_test /= 255"
      ],
      "metadata": {
        "id": "u9O7HxS9roTh"
      },
      "execution_count": null,
      "outputs": []
    },
    {
      "cell_type": "code",
      "source": [
        "print(X_train.shape)"
      ],
      "metadata": {
        "colab": {
          "base_uri": "https://localhost:8080/"
        },
        "id": "OVFnea8hunLs",
        "outputId": "a7bc43d5-d45e-43c2-8239-ca50bdab54f8"
      },
      "execution_count": null,
      "outputs": [
        {
          "output_type": "stream",
          "name": "stdout",
          "text": [
            "(815, 200, 54)\n"
          ]
        }
      ]
    },
    {
      "cell_type": "code",
      "source": [
        "from sklearn.preprocessing import LabelEncoder\n",
        "label_encoder = LabelEncoder()\n",
        "label_encoder.fit(y_train)\n",
        "y_train_encoded = label_encoder.transform(y_train)\n",
        "y_test_encoded = label_encoder.transform(y_test)"
      ],
      "metadata": {
        "id": "E89P9lMKvAyV"
      },
      "execution_count": null,
      "outputs": []
    },
    {
      "cell_type": "code",
      "source": [
        "import tensorflow as tf\n",
        "from tensorflow import keras\n",
        "from tensorflow.keras.layers import Dense, Dropout,Attention\n",
        "from tensorflow.keras.losses import SparseCategoricalCrossentropy\n",
        "\n",
        "\n",
        "# Define the CNN model\n",
        "model = keras.Sequential([\n",
        "    keras.layers.Conv2D(32, 7, activation='relu' , input_shape=(200, 53,1)),\n",
        "    keras.layers.MaxPooling2D(2),\n",
        "    keras.layers.Conv2D(96, 5, activation='relu'),\n",
        "    keras.layers.MaxPooling2D(2),\n",
        "    keras.layers.Flatten(),\n",
        "    keras.layers.Dense(128, activation='relu'),\n",
        "    keras.layers.Dropout(0.5),\n",
        "    keras.layers.Dense(64, activation='relu'),\n",
        "    keras.layers.Dropout(0.25),\n",
        "    keras.layers.Dense(7, activation='softmax')\n",
        "\n",
        "])\n",
        "\n",
        "# Compile the model\n",
        "model.compile(optimizer= tf.keras.optimizers.Adam(learning_rate=0.0001),\n",
        "              loss='sparse_categorical_crossentropy',\n",
        "              metrics=['accuracy'])\n",
        "model.summary()"
      ],
      "metadata": {
        "colab": {
          "base_uri": "https://localhost:8080/"
        },
        "id": "L4Gp7IH5upyn",
        "outputId": "86085749-c0ff-4732-b72e-8011f1001932"
      },
      "execution_count": null,
      "outputs": [
        {
          "output_type": "stream",
          "name": "stdout",
          "text": [
            "Model: \"sequential_6\"\n",
            "_________________________________________________________________\n",
            " Layer (type)                Output Shape              Param #   \n",
            "=================================================================\n",
            " conv2d_12 (Conv2D)          (None, 194, 47, 32)       1600      \n",
            "                                                                 \n",
            " max_pooling2d_12 (MaxPooli  (None, 97, 23, 32)        0         \n",
            " ng2D)                                                           \n",
            "                                                                 \n",
            " conv2d_13 (Conv2D)          (None, 93, 19, 96)        76896     \n",
            "                                                                 \n",
            " max_pooling2d_13 (MaxPooli  (None, 46, 9, 96)         0         \n",
            " ng2D)                                                           \n",
            "                                                                 \n",
            " flatten_6 (Flatten)         (None, 39744)             0         \n",
            "                                                                 \n",
            " dense_18 (Dense)            (None, 128)               5087360   \n",
            "                                                                 \n",
            " dropout_12 (Dropout)        (None, 128)               0         \n",
            "                                                                 \n",
            " dense_19 (Dense)            (None, 64)                8256      \n",
            "                                                                 \n",
            " dropout_13 (Dropout)        (None, 64)                0         \n",
            "                                                                 \n",
            " dense_20 (Dense)            (None, 7)                 455       \n",
            "                                                                 \n",
            "=================================================================\n",
            "Total params: 5174567 (19.74 MB)\n",
            "Trainable params: 5174567 (19.74 MB)\n",
            "Non-trainable params: 0 (0.00 Byte)\n",
            "_________________________________________________________________\n"
          ]
        }
      ]
    },
    {
      "cell_type": "code",
      "source": [
        "history = model.fit(X_train, y_train_encoded, epochs=50, batch_size=8,validation_split=0.2)"
      ],
      "metadata": {
        "colab": {
          "base_uri": "https://localhost:8080/"
        },
        "id": "LX6Df0Z7uvZu",
        "outputId": "77742ed2-18be-4ed6-b428-8b0557ae504a"
      },
      "execution_count": null,
      "outputs": [
        {
          "output_type": "stream",
          "name": "stdout",
          "text": [
            "Epoch 1/50\n",
            "82/82 [==============================] - 29s 335ms/step - loss: 1.9464 - accuracy: 0.1472 - val_loss: 1.9474 - val_accuracy: 0.1166\n",
            "Epoch 2/50\n",
            "82/82 [==============================] - 25s 300ms/step - loss: 1.9407 - accuracy: 0.1702 - val_loss: 1.9469 - val_accuracy: 0.1595\n",
            "Epoch 3/50\n",
            "82/82 [==============================] - 27s 329ms/step - loss: 1.9369 - accuracy: 0.1887 - val_loss: 1.9413 - val_accuracy: 0.1227\n",
            "Epoch 4/50\n",
            "82/82 [==============================] - 26s 315ms/step - loss: 1.9442 - accuracy: 0.1610 - val_loss: 1.9435 - val_accuracy: 0.1472\n",
            "Epoch 5/50\n",
            "82/82 [==============================] - 26s 315ms/step - loss: 1.9387 - accuracy: 0.1748 - val_loss: 1.9397 - val_accuracy: 0.2086\n",
            "Epoch 6/50\n",
            "82/82 [==============================] - 27s 327ms/step - loss: 1.9247 - accuracy: 0.1902 - val_loss: 1.9367 - val_accuracy: 0.1595\n",
            "Epoch 7/50\n",
            "82/82 [==============================] - 28s 341ms/step - loss: 1.9233 - accuracy: 0.2025 - val_loss: 1.9261 - val_accuracy: 0.1963\n",
            "Epoch 8/50\n",
            "82/82 [==============================] - 28s 339ms/step - loss: 1.9028 - accuracy: 0.1963 - val_loss: 1.9122 - val_accuracy: 0.2209\n",
            "Epoch 9/50\n",
            "82/82 [==============================] - 25s 304ms/step - loss: 1.8697 - accuracy: 0.2531 - val_loss: 1.8727 - val_accuracy: 0.2454\n",
            "Epoch 10/50\n",
            "82/82 [==============================] - 28s 339ms/step - loss: 1.8090 - accuracy: 0.2776 - val_loss: 1.8217 - val_accuracy: 0.2577\n",
            "Epoch 11/50\n",
            "82/82 [==============================] - 26s 321ms/step - loss: 1.7610 - accuracy: 0.3098 - val_loss: 1.7756 - val_accuracy: 0.3313\n",
            "Epoch 12/50\n",
            "82/82 [==============================] - 27s 322ms/step - loss: 1.7244 - accuracy: 0.3558 - val_loss: 1.7568 - val_accuracy: 0.3374\n",
            "Epoch 13/50\n",
            "82/82 [==============================] - 28s 338ms/step - loss: 1.6588 - accuracy: 0.3558 - val_loss: 1.6972 - val_accuracy: 0.3620\n",
            "Epoch 14/50\n",
            "82/82 [==============================] - 26s 313ms/step - loss: 1.6507 - accuracy: 0.3650 - val_loss: 1.6709 - val_accuracy: 0.3374\n",
            "Epoch 15/50\n",
            "82/82 [==============================] - 28s 340ms/step - loss: 1.6152 - accuracy: 0.3896 - val_loss: 1.6034 - val_accuracy: 0.4110\n",
            "Epoch 16/50\n",
            "82/82 [==============================] - 25s 306ms/step - loss: 1.5001 - accuracy: 0.4156 - val_loss: 1.5561 - val_accuracy: 0.4049\n",
            "Epoch 17/50\n",
            "82/82 [==============================] - 28s 338ms/step - loss: 1.5085 - accuracy: 0.4310 - val_loss: 1.5824 - val_accuracy: 0.3988\n",
            "Epoch 18/50\n",
            "82/82 [==============================] - 27s 326ms/step - loss: 1.4526 - accuracy: 0.4831 - val_loss: 1.5362 - val_accuracy: 0.4233\n",
            "Epoch 19/50\n",
            "82/82 [==============================] - 26s 317ms/step - loss: 1.3996 - accuracy: 0.4663 - val_loss: 1.5150 - val_accuracy: 0.4294\n",
            "Epoch 20/50\n",
            "82/82 [==============================] - 28s 337ms/step - loss: 1.3734 - accuracy: 0.4816 - val_loss: 1.5229 - val_accuracy: 0.4601\n",
            "Epoch 21/50\n",
            "82/82 [==============================] - 25s 303ms/step - loss: 1.3564 - accuracy: 0.4739 - val_loss: 1.5266 - val_accuracy: 0.4110\n",
            "Epoch 22/50\n",
            "82/82 [==============================] - 27s 334ms/step - loss: 1.3448 - accuracy: 0.4862 - val_loss: 1.5292 - val_accuracy: 0.3988\n",
            "Epoch 23/50\n",
            "82/82 [==============================] - 25s 305ms/step - loss: 1.3227 - accuracy: 0.5199 - val_loss: 1.5534 - val_accuracy: 0.4294\n",
            "Epoch 24/50\n",
            "82/82 [==============================] - 31s 378ms/step - loss: 1.3177 - accuracy: 0.4755 - val_loss: 1.4970 - val_accuracy: 0.4356\n",
            "Epoch 25/50\n",
            "82/82 [==============================] - 27s 335ms/step - loss: 1.2722 - accuracy: 0.5077 - val_loss: 1.5040 - val_accuracy: 0.4049\n",
            "Epoch 26/50\n",
            "82/82 [==============================] - 26s 312ms/step - loss: 1.1652 - accuracy: 0.5859 - val_loss: 1.5292 - val_accuracy: 0.4110\n",
            "Epoch 27/50\n",
            "82/82 [==============================] - 28s 346ms/step - loss: 1.1896 - accuracy: 0.5475 - val_loss: 1.5388 - val_accuracy: 0.4110\n",
            "Epoch 28/50\n",
            "82/82 [==============================] - 27s 335ms/step - loss: 1.1559 - accuracy: 0.5844 - val_loss: 1.5009 - val_accuracy: 0.4233\n",
            "Epoch 29/50\n",
            "82/82 [==============================] - 26s 321ms/step - loss: 1.1202 - accuracy: 0.5752 - val_loss: 1.5523 - val_accuracy: 0.4049\n",
            "Epoch 30/50\n",
            "82/82 [==============================] - 28s 343ms/step - loss: 1.1159 - accuracy: 0.5936 - val_loss: 1.5092 - val_accuracy: 0.4356\n",
            "Epoch 31/50\n",
            "82/82 [==============================] - 27s 329ms/step - loss: 1.0486 - accuracy: 0.6074 - val_loss: 1.5204 - val_accuracy: 0.4294\n",
            "Epoch 32/50\n",
            "82/82 [==============================] - 27s 332ms/step - loss: 1.0508 - accuracy: 0.6227 - val_loss: 1.5468 - val_accuracy: 0.4233\n",
            "Epoch 33/50\n",
            "82/82 [==============================] - 28s 347ms/step - loss: 1.0357 - accuracy: 0.6273 - val_loss: 1.5410 - val_accuracy: 0.4540\n",
            "Epoch 34/50\n",
            "82/82 [==============================] - 26s 321ms/step - loss: 1.0175 - accuracy: 0.6104 - val_loss: 1.5573 - val_accuracy: 0.4540\n",
            "Epoch 35/50\n",
            "82/82 [==============================] - 27s 329ms/step - loss: 0.9938 - accuracy: 0.6472 - val_loss: 1.5843 - val_accuracy: 0.4356\n",
            "Epoch 36/50\n",
            "82/82 [==============================] - 28s 343ms/step - loss: 0.8942 - accuracy: 0.6794 - val_loss: 1.6082 - val_accuracy: 0.4172\n",
            "Epoch 37/50\n",
            "82/82 [==============================] - 25s 309ms/step - loss: 0.8885 - accuracy: 0.6917 - val_loss: 1.6110 - val_accuracy: 0.4724\n",
            "Epoch 38/50\n",
            "82/82 [==============================] - 28s 339ms/step - loss: 0.9217 - accuracy: 0.6702 - val_loss: 1.6277 - val_accuracy: 0.4417\n",
            "Epoch 39/50\n",
            "82/82 [==============================] - 26s 320ms/step - loss: 0.9365 - accuracy: 0.6258 - val_loss: 1.6024 - val_accuracy: 0.4663\n",
            "Epoch 40/50\n",
            "82/82 [==============================] - 30s 365ms/step - loss: 0.8790 - accuracy: 0.6687 - val_loss: 1.6966 - val_accuracy: 0.4233\n",
            "Epoch 41/50\n",
            "82/82 [==============================] - 29s 351ms/step - loss: 0.8357 - accuracy: 0.6856 - val_loss: 1.6341 - val_accuracy: 0.4724\n",
            "Epoch 42/50\n",
            "82/82 [==============================] - 28s 340ms/step - loss: 0.7374 - accuracy: 0.7439 - val_loss: 1.6173 - val_accuracy: 0.4479\n",
            "Epoch 43/50\n",
            "82/82 [==============================] - 26s 320ms/step - loss: 0.7836 - accuracy: 0.6902 - val_loss: 1.6210 - val_accuracy: 0.4172\n",
            "Epoch 44/50\n",
            "82/82 [==============================] - 29s 352ms/step - loss: 0.8193 - accuracy: 0.7009 - val_loss: 1.6388 - val_accuracy: 0.4479\n",
            "Epoch 45/50\n",
            "82/82 [==============================] - 28s 344ms/step - loss: 0.7860 - accuracy: 0.7285 - val_loss: 1.6635 - val_accuracy: 0.4417\n",
            "Epoch 46/50\n",
            "82/82 [==============================] - 26s 321ms/step - loss: 0.7495 - accuracy: 0.7117 - val_loss: 1.6948 - val_accuracy: 0.4479\n",
            "Epoch 47/50\n",
            "82/82 [==============================] - 28s 348ms/step - loss: 0.7563 - accuracy: 0.7285 - val_loss: 1.6439 - val_accuracy: 0.4601\n",
            "Epoch 48/50\n",
            "82/82 [==============================] - 27s 335ms/step - loss: 0.7136 - accuracy: 0.7331 - val_loss: 1.7212 - val_accuracy: 0.4172\n",
            "Epoch 49/50\n",
            "82/82 [==============================] - 27s 323ms/step - loss: 0.6813 - accuracy: 0.7439 - val_loss: 1.6948 - val_accuracy: 0.4479\n",
            "Epoch 50/50\n",
            "82/82 [==============================] - 28s 344ms/step - loss: 0.6745 - accuracy: 0.7577 - val_loss: 1.7327 - val_accuracy: 0.4601\n"
          ]
        }
      ]
    }
  ]
}