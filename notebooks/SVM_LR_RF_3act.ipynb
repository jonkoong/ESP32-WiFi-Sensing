{
  "nbformat": 4,
  "nbformat_minor": 0,
  "metadata": {
    "colab": {
      "provenance": []
    },
    "kernelspec": {
      "name": "python3",
      "display_name": "Python 3"
    },
    "language_info": {
      "name": "python"
    }
  },
  "cells": [
    {
      "cell_type": "markdown",
      "source": [
        "# Environment prep"
      ],
      "metadata": {
        "id": "IycAsEqDTKHk"
      }
    },
    {
      "cell_type": "code",
      "execution_count": null,
      "metadata": {
        "colab": {
          "base_uri": "https://localhost:8080/"
        },
        "id": "qTVpqZ7-TCPz",
        "outputId": "3c0bf069-0240-4d25-8c51-923879ad8d90"
      },
      "outputs": [
        {
          "output_type": "stream",
          "name": "stdout",
          "text": [
            "Mounted at /content/drive\n"
          ]
        }
      ],
      "source": [
        "from google.colab import drive\n",
        "drive.mount('/content/drive')"
      ]
    },
    {
      "cell_type": "code",
      "source": [
        "import numpy as np\n",
        "import pandas as pd\n",
        "import tensorflow as tf\n",
        "from tensorflow.keras import layers, models\n",
        "import matplotlib.pyplot as plt\n",
        "import os"
      ],
      "metadata": {
        "id": "q3OgjM8SUwSt"
      },
      "execution_count": null,
      "outputs": []
    },
    {
      "cell_type": "markdown",
      "source": [
        "# Load data"
      ],
      "metadata": {
        "id": "0UolO-76U0Ld"
      }
    },
    {
      "cell_type": "code",
      "source": [
        "import os\n",
        "import pandas as pd\n",
        "\n",
        "# Specify the path to your main folder\n",
        "main_folder_path = '/content/drive/MyDrive/Wifi_Exercise_Dataset/segments'\n",
        "\n",
        "# Initialize an empty list to store flattened arrays and labels\n",
        "all_flattened_arrays = []\n",
        "all_labels = []\n",
        "\n",
        "# Iterate through specific subfolders\n",
        "for activity_folder in [\"SO\", \"LL\", \"RA\"]:\n",
        "    activity_folder_path = os.path.join(main_folder_path, activity_folder)\n",
        "\n",
        "    # Check if it's a directory\n",
        "    if os.path.isdir(activity_folder_path):\n",
        "        # Iterate through files in the subfolder\n",
        "        for file_name in os.listdir(activity_folder_path):\n",
        "            if file_name.endswith('.csv'):\n",
        "                file_path = os.path.join(activity_folder_path, file_name)\n",
        "\n",
        "                # Read the data from each CSV file into a DataFrame\n",
        "                df = pd.read_csv(file_path)  # Adjust the read_csv parameters based on your file format\n",
        "\n",
        "                # Drop the 'timestamp' column\n",
        "                df = df.drop(columns=['timestamp'])\n",
        "\n",
        "                # Flatten the DataFrame into a 1D array\n",
        "                flattened_array = df.values.flatten()\n",
        "\n",
        "                # Append the flattened array to the list\n",
        "                all_flattened_arrays.append(flattened_array)\n",
        "\n",
        "                # Append the label to the list\n",
        "                all_labels.append(activity_folder)\n",
        "\n",
        "# Create a DataFrame from the flattened arrays\n",
        "combined_df = pd.DataFrame(all_flattened_arrays)\n",
        "\n",
        "# Add a label column with the folder names\n",
        "combined_df['label'] = all_labels\n"
      ],
      "metadata": {
        "id": "7IJlbfyX2u9e"
      },
      "execution_count": null,
      "outputs": []
    },
    {
      "cell_type": "code",
      "source": [
        "combined_df.shape"
      ],
      "metadata": {
        "colab": {
          "base_uri": "https://localhost:8080/"
        },
        "id": "dPL-3C4L21al",
        "outputId": "98eebbb3-ac86-4379-cb3e-66600ac90df0"
      },
      "execution_count": null,
      "outputs": [
        {
          "output_type": "execute_result",
          "data": {
            "text/plain": [
              "(525, 11001)"
            ]
          },
          "metadata": {},
          "execution_count": 5
        }
      ]
    },
    {
      "cell_type": "code",
      "source": [
        "#combined_df = combined_df.iloc[:, 1:]\n",
        "combined_df.head(10)"
      ],
      "metadata": {
        "colab": {
          "base_uri": "https://localhost:8080/",
          "height": 412
        },
        "id": "vqFKUtg-ZkCs",
        "outputId": "3771c1b2-2cf0-4de3-bdab-cffd9a8deee0"
      },
      "execution_count": null,
      "outputs": [
        {
          "output_type": "execute_result",
          "data": {
            "text/plain": [
              "        0          1    2          3          4          5          6  \\\n",
              "0    95.0  105.60303  4.0  11.151044  10.707436   9.316612  12.144976   \n",
              "1   295.0  105.60303  4.0  21.506546  21.487823  22.237087  22.065025   \n",
              "2   495.0  105.60303  4.0  17.746916  19.175842  20.094381  21.879972   \n",
              "3   695.0  105.60303  4.0  17.766068  16.753246  19.043830  17.250135   \n",
              "4   895.0  105.60303  4.0  13.907796  17.014135  14.053236  17.398851   \n",
              "5  1095.0  105.60303  4.0  18.332218  19.316801  18.656826  19.351206   \n",
              "6  1295.0  105.60303  4.0  26.206268  26.147360  17.714241  18.659363   \n",
              "7  1495.0  105.60303  4.0  11.107969   9.253821   8.815681   6.830923   \n",
              "8  1695.0  105.60303  4.0   5.227323  15.211393   9.476759  19.716702   \n",
              "9  1895.0  105.60303  4.0  12.837535  12.206369  10.995890  11.399932   \n",
              "\n",
              "           7          8          9  ...      10991      10992      10993  \\\n",
              "0   9.425203  10.150993   9.600242  ...  14.014939  18.581728  14.814212   \n",
              "1  20.665798  19.980720  20.726309  ...   6.811122   6.554436   5.996309   \n",
              "2  21.342686  19.496647  21.977829  ...  12.046574  12.480197  16.537952   \n",
              "3  18.304783  18.869814  18.925077  ...  12.481363  11.611756  12.465040   \n",
              "4  15.159801  16.416302  16.852371  ...  15.162306  14.735621  16.487059   \n",
              "5  18.549267  19.595110  20.402458  ...  13.360408  14.871668  15.721128   \n",
              "6  17.782763  19.697880  17.509909  ...  18.129720  19.989136  17.627092   \n",
              "7   5.513859   6.323463   5.064917  ...  17.529305  18.763878  15.482011   \n",
              "8  12.707226  15.794682  17.629936  ...  26.146471  25.994068  23.582901   \n",
              "9  11.291079   9.269518  13.626994  ...  11.171714  10.112230  13.896391   \n",
              "\n",
              "       10994      10995      10996      10997      10998      10999  label  \n",
              "0  18.369108  18.438068  19.351728  17.369322  19.920948  21.335201     SO  \n",
              "1   6.989310   7.431928   8.145256   8.993933   8.906126   8.952628     SO  \n",
              "2  16.457370  15.557218  18.807453  19.396845  17.038677  17.995457     SO  \n",
              "3  13.227288  13.615556  13.061897  14.125260  14.368896  14.130817     SO  \n",
              "4  15.695503  16.295233  16.722143  17.177563  17.701513  17.421760     SO  \n",
              "5  14.085009  14.890542  11.189156  12.656915  11.509663  12.924667     SO  \n",
              "6  17.567800  17.752438  18.823847  18.042463  18.242094  17.533295     SO  \n",
              "7  13.943518  11.983328  13.858007  11.676786   9.471568   9.792299     SO  \n",
              "8  24.074800  23.335043  24.082153  23.428430  24.009565  21.077100     SO  \n",
              "9  16.110277  18.566053  13.522039  18.489637  17.689028  14.998214     SO  \n",
              "\n",
              "[10 rows x 11001 columns]"
            ],
            "text/html": [
              "\n",
              "  <div id=\"df-3dc398c3-22db-4248-aee8-e82ce517c4e3\" class=\"colab-df-container\">\n",
              "    <div>\n",
              "<style scoped>\n",
              "    .dataframe tbody tr th:only-of-type {\n",
              "        vertical-align: middle;\n",
              "    }\n",
              "\n",
              "    .dataframe tbody tr th {\n",
              "        vertical-align: top;\n",
              "    }\n",
              "\n",
              "    .dataframe thead th {\n",
              "        text-align: right;\n",
              "    }\n",
              "</style>\n",
              "<table border=\"1\" class=\"dataframe\">\n",
              "  <thead>\n",
              "    <tr style=\"text-align: right;\">\n",
              "      <th></th>\n",
              "      <th>0</th>\n",
              "      <th>1</th>\n",
              "      <th>2</th>\n",
              "      <th>3</th>\n",
              "      <th>4</th>\n",
              "      <th>5</th>\n",
              "      <th>6</th>\n",
              "      <th>7</th>\n",
              "      <th>8</th>\n",
              "      <th>9</th>\n",
              "      <th>...</th>\n",
              "      <th>10991</th>\n",
              "      <th>10992</th>\n",
              "      <th>10993</th>\n",
              "      <th>10994</th>\n",
              "      <th>10995</th>\n",
              "      <th>10996</th>\n",
              "      <th>10997</th>\n",
              "      <th>10998</th>\n",
              "      <th>10999</th>\n",
              "      <th>label</th>\n",
              "    </tr>\n",
              "  </thead>\n",
              "  <tbody>\n",
              "    <tr>\n",
              "      <th>0</th>\n",
              "      <td>95.0</td>\n",
              "      <td>105.60303</td>\n",
              "      <td>4.0</td>\n",
              "      <td>11.151044</td>\n",
              "      <td>10.707436</td>\n",
              "      <td>9.316612</td>\n",
              "      <td>12.144976</td>\n",
              "      <td>9.425203</td>\n",
              "      <td>10.150993</td>\n",
              "      <td>9.600242</td>\n",
              "      <td>...</td>\n",
              "      <td>14.014939</td>\n",
              "      <td>18.581728</td>\n",
              "      <td>14.814212</td>\n",
              "      <td>18.369108</td>\n",
              "      <td>18.438068</td>\n",
              "      <td>19.351728</td>\n",
              "      <td>17.369322</td>\n",
              "      <td>19.920948</td>\n",
              "      <td>21.335201</td>\n",
              "      <td>SO</td>\n",
              "    </tr>\n",
              "    <tr>\n",
              "      <th>1</th>\n",
              "      <td>295.0</td>\n",
              "      <td>105.60303</td>\n",
              "      <td>4.0</td>\n",
              "      <td>21.506546</td>\n",
              "      <td>21.487823</td>\n",
              "      <td>22.237087</td>\n",
              "      <td>22.065025</td>\n",
              "      <td>20.665798</td>\n",
              "      <td>19.980720</td>\n",
              "      <td>20.726309</td>\n",
              "      <td>...</td>\n",
              "      <td>6.811122</td>\n",
              "      <td>6.554436</td>\n",
              "      <td>5.996309</td>\n",
              "      <td>6.989310</td>\n",
              "      <td>7.431928</td>\n",
              "      <td>8.145256</td>\n",
              "      <td>8.993933</td>\n",
              "      <td>8.906126</td>\n",
              "      <td>8.952628</td>\n",
              "      <td>SO</td>\n",
              "    </tr>\n",
              "    <tr>\n",
              "      <th>2</th>\n",
              "      <td>495.0</td>\n",
              "      <td>105.60303</td>\n",
              "      <td>4.0</td>\n",
              "      <td>17.746916</td>\n",
              "      <td>19.175842</td>\n",
              "      <td>20.094381</td>\n",
              "      <td>21.879972</td>\n",
              "      <td>21.342686</td>\n",
              "      <td>19.496647</td>\n",
              "      <td>21.977829</td>\n",
              "      <td>...</td>\n",
              "      <td>12.046574</td>\n",
              "      <td>12.480197</td>\n",
              "      <td>16.537952</td>\n",
              "      <td>16.457370</td>\n",
              "      <td>15.557218</td>\n",
              "      <td>18.807453</td>\n",
              "      <td>19.396845</td>\n",
              "      <td>17.038677</td>\n",
              "      <td>17.995457</td>\n",
              "      <td>SO</td>\n",
              "    </tr>\n",
              "    <tr>\n",
              "      <th>3</th>\n",
              "      <td>695.0</td>\n",
              "      <td>105.60303</td>\n",
              "      <td>4.0</td>\n",
              "      <td>17.766068</td>\n",
              "      <td>16.753246</td>\n",
              "      <td>19.043830</td>\n",
              "      <td>17.250135</td>\n",
              "      <td>18.304783</td>\n",
              "      <td>18.869814</td>\n",
              "      <td>18.925077</td>\n",
              "      <td>...</td>\n",
              "      <td>12.481363</td>\n",
              "      <td>11.611756</td>\n",
              "      <td>12.465040</td>\n",
              "      <td>13.227288</td>\n",
              "      <td>13.615556</td>\n",
              "      <td>13.061897</td>\n",
              "      <td>14.125260</td>\n",
              "      <td>14.368896</td>\n",
              "      <td>14.130817</td>\n",
              "      <td>SO</td>\n",
              "    </tr>\n",
              "    <tr>\n",
              "      <th>4</th>\n",
              "      <td>895.0</td>\n",
              "      <td>105.60303</td>\n",
              "      <td>4.0</td>\n",
              "      <td>13.907796</td>\n",
              "      <td>17.014135</td>\n",
              "      <td>14.053236</td>\n",
              "      <td>17.398851</td>\n",
              "      <td>15.159801</td>\n",
              "      <td>16.416302</td>\n",
              "      <td>16.852371</td>\n",
              "      <td>...</td>\n",
              "      <td>15.162306</td>\n",
              "      <td>14.735621</td>\n",
              "      <td>16.487059</td>\n",
              "      <td>15.695503</td>\n",
              "      <td>16.295233</td>\n",
              "      <td>16.722143</td>\n",
              "      <td>17.177563</td>\n",
              "      <td>17.701513</td>\n",
              "      <td>17.421760</td>\n",
              "      <td>SO</td>\n",
              "    </tr>\n",
              "    <tr>\n",
              "      <th>5</th>\n",
              "      <td>1095.0</td>\n",
              "      <td>105.60303</td>\n",
              "      <td>4.0</td>\n",
              "      <td>18.332218</td>\n",
              "      <td>19.316801</td>\n",
              "      <td>18.656826</td>\n",
              "      <td>19.351206</td>\n",
              "      <td>18.549267</td>\n",
              "      <td>19.595110</td>\n",
              "      <td>20.402458</td>\n",
              "      <td>...</td>\n",
              "      <td>13.360408</td>\n",
              "      <td>14.871668</td>\n",
              "      <td>15.721128</td>\n",
              "      <td>14.085009</td>\n",
              "      <td>14.890542</td>\n",
              "      <td>11.189156</td>\n",
              "      <td>12.656915</td>\n",
              "      <td>11.509663</td>\n",
              "      <td>12.924667</td>\n",
              "      <td>SO</td>\n",
              "    </tr>\n",
              "    <tr>\n",
              "      <th>6</th>\n",
              "      <td>1295.0</td>\n",
              "      <td>105.60303</td>\n",
              "      <td>4.0</td>\n",
              "      <td>26.206268</td>\n",
              "      <td>26.147360</td>\n",
              "      <td>17.714241</td>\n",
              "      <td>18.659363</td>\n",
              "      <td>17.782763</td>\n",
              "      <td>19.697880</td>\n",
              "      <td>17.509909</td>\n",
              "      <td>...</td>\n",
              "      <td>18.129720</td>\n",
              "      <td>19.989136</td>\n",
              "      <td>17.627092</td>\n",
              "      <td>17.567800</td>\n",
              "      <td>17.752438</td>\n",
              "      <td>18.823847</td>\n",
              "      <td>18.042463</td>\n",
              "      <td>18.242094</td>\n",
              "      <td>17.533295</td>\n",
              "      <td>SO</td>\n",
              "    </tr>\n",
              "    <tr>\n",
              "      <th>7</th>\n",
              "      <td>1495.0</td>\n",
              "      <td>105.60303</td>\n",
              "      <td>4.0</td>\n",
              "      <td>11.107969</td>\n",
              "      <td>9.253821</td>\n",
              "      <td>8.815681</td>\n",
              "      <td>6.830923</td>\n",
              "      <td>5.513859</td>\n",
              "      <td>6.323463</td>\n",
              "      <td>5.064917</td>\n",
              "      <td>...</td>\n",
              "      <td>17.529305</td>\n",
              "      <td>18.763878</td>\n",
              "      <td>15.482011</td>\n",
              "      <td>13.943518</td>\n",
              "      <td>11.983328</td>\n",
              "      <td>13.858007</td>\n",
              "      <td>11.676786</td>\n",
              "      <td>9.471568</td>\n",
              "      <td>9.792299</td>\n",
              "      <td>SO</td>\n",
              "    </tr>\n",
              "    <tr>\n",
              "      <th>8</th>\n",
              "      <td>1695.0</td>\n",
              "      <td>105.60303</td>\n",
              "      <td>4.0</td>\n",
              "      <td>5.227323</td>\n",
              "      <td>15.211393</td>\n",
              "      <td>9.476759</td>\n",
              "      <td>19.716702</td>\n",
              "      <td>12.707226</td>\n",
              "      <td>15.794682</td>\n",
              "      <td>17.629936</td>\n",
              "      <td>...</td>\n",
              "      <td>26.146471</td>\n",
              "      <td>25.994068</td>\n",
              "      <td>23.582901</td>\n",
              "      <td>24.074800</td>\n",
              "      <td>23.335043</td>\n",
              "      <td>24.082153</td>\n",
              "      <td>23.428430</td>\n",
              "      <td>24.009565</td>\n",
              "      <td>21.077100</td>\n",
              "      <td>SO</td>\n",
              "    </tr>\n",
              "    <tr>\n",
              "      <th>9</th>\n",
              "      <td>1895.0</td>\n",
              "      <td>105.60303</td>\n",
              "      <td>4.0</td>\n",
              "      <td>12.837535</td>\n",
              "      <td>12.206369</td>\n",
              "      <td>10.995890</td>\n",
              "      <td>11.399932</td>\n",
              "      <td>11.291079</td>\n",
              "      <td>9.269518</td>\n",
              "      <td>13.626994</td>\n",
              "      <td>...</td>\n",
              "      <td>11.171714</td>\n",
              "      <td>10.112230</td>\n",
              "      <td>13.896391</td>\n",
              "      <td>16.110277</td>\n",
              "      <td>18.566053</td>\n",
              "      <td>13.522039</td>\n",
              "      <td>18.489637</td>\n",
              "      <td>17.689028</td>\n",
              "      <td>14.998214</td>\n",
              "      <td>SO</td>\n",
              "    </tr>\n",
              "  </tbody>\n",
              "</table>\n",
              "<p>10 rows × 11001 columns</p>\n",
              "</div>\n",
              "    <div class=\"colab-df-buttons\">\n",
              "\n",
              "  <div class=\"colab-df-container\">\n",
              "    <button class=\"colab-df-convert\" onclick=\"convertToInteractive('df-3dc398c3-22db-4248-aee8-e82ce517c4e3')\"\n",
              "            title=\"Convert this dataframe to an interactive table.\"\n",
              "            style=\"display:none;\">\n",
              "\n",
              "  <svg xmlns=\"http://www.w3.org/2000/svg\" height=\"24px\" viewBox=\"0 -960 960 960\">\n",
              "    <path d=\"M120-120v-720h720v720H120Zm60-500h600v-160H180v160Zm220 220h160v-160H400v160Zm0 220h160v-160H400v160ZM180-400h160v-160H180v160Zm440 0h160v-160H620v160ZM180-180h160v-160H180v160Zm440 0h160v-160H620v160Z\"/>\n",
              "  </svg>\n",
              "    </button>\n",
              "\n",
              "  <style>\n",
              "    .colab-df-container {\n",
              "      display:flex;\n",
              "      gap: 12px;\n",
              "    }\n",
              "\n",
              "    .colab-df-convert {\n",
              "      background-color: #E8F0FE;\n",
              "      border: none;\n",
              "      border-radius: 50%;\n",
              "      cursor: pointer;\n",
              "      display: none;\n",
              "      fill: #1967D2;\n",
              "      height: 32px;\n",
              "      padding: 0 0 0 0;\n",
              "      width: 32px;\n",
              "    }\n",
              "\n",
              "    .colab-df-convert:hover {\n",
              "      background-color: #E2EBFA;\n",
              "      box-shadow: 0px 1px 2px rgba(60, 64, 67, 0.3), 0px 1px 3px 1px rgba(60, 64, 67, 0.15);\n",
              "      fill: #174EA6;\n",
              "    }\n",
              "\n",
              "    .colab-df-buttons div {\n",
              "      margin-bottom: 4px;\n",
              "    }\n",
              "\n",
              "    [theme=dark] .colab-df-convert {\n",
              "      background-color: #3B4455;\n",
              "      fill: #D2E3FC;\n",
              "    }\n",
              "\n",
              "    [theme=dark] .colab-df-convert:hover {\n",
              "      background-color: #434B5C;\n",
              "      box-shadow: 0px 1px 3px 1px rgba(0, 0, 0, 0.15);\n",
              "      filter: drop-shadow(0px 1px 2px rgba(0, 0, 0, 0.3));\n",
              "      fill: #FFFFFF;\n",
              "    }\n",
              "  </style>\n",
              "\n",
              "    <script>\n",
              "      const buttonEl =\n",
              "        document.querySelector('#df-3dc398c3-22db-4248-aee8-e82ce517c4e3 button.colab-df-convert');\n",
              "      buttonEl.style.display =\n",
              "        google.colab.kernel.accessAllowed ? 'block' : 'none';\n",
              "\n",
              "      async function convertToInteractive(key) {\n",
              "        const element = document.querySelector('#df-3dc398c3-22db-4248-aee8-e82ce517c4e3');\n",
              "        const dataTable =\n",
              "          await google.colab.kernel.invokeFunction('convertToInteractive',\n",
              "                                                    [key], {});\n",
              "        if (!dataTable) return;\n",
              "\n",
              "        const docLinkHtml = 'Like what you see? Visit the ' +\n",
              "          '<a target=\"_blank\" href=https://colab.research.google.com/notebooks/data_table.ipynb>data table notebook</a>'\n",
              "          + ' to learn more about interactive tables.';\n",
              "        element.innerHTML = '';\n",
              "        dataTable['output_type'] = 'display_data';\n",
              "        await google.colab.output.renderOutput(dataTable, element);\n",
              "        const docLink = document.createElement('div');\n",
              "        docLink.innerHTML = docLinkHtml;\n",
              "        element.appendChild(docLink);\n",
              "      }\n",
              "    </script>\n",
              "  </div>\n",
              "\n",
              "\n",
              "<div id=\"df-153dae65-0f09-43c2-afb1-301cbc158bc4\">\n",
              "  <button class=\"colab-df-quickchart\" onclick=\"quickchart('df-153dae65-0f09-43c2-afb1-301cbc158bc4')\"\n",
              "            title=\"Suggest charts\"\n",
              "            style=\"display:none;\">\n",
              "\n",
              "<svg xmlns=\"http://www.w3.org/2000/svg\" height=\"24px\"viewBox=\"0 0 24 24\"\n",
              "     width=\"24px\">\n",
              "    <g>\n",
              "        <path d=\"M19 3H5c-1.1 0-2 .9-2 2v14c0 1.1.9 2 2 2h14c1.1 0 2-.9 2-2V5c0-1.1-.9-2-2-2zM9 17H7v-7h2v7zm4 0h-2V7h2v10zm4 0h-2v-4h2v4z\"/>\n",
              "    </g>\n",
              "</svg>\n",
              "  </button>\n",
              "\n",
              "<style>\n",
              "  .colab-df-quickchart {\n",
              "      --bg-color: #E8F0FE;\n",
              "      --fill-color: #1967D2;\n",
              "      --hover-bg-color: #E2EBFA;\n",
              "      --hover-fill-color: #174EA6;\n",
              "      --disabled-fill-color: #AAA;\n",
              "      --disabled-bg-color: #DDD;\n",
              "  }\n",
              "\n",
              "  [theme=dark] .colab-df-quickchart {\n",
              "      --bg-color: #3B4455;\n",
              "      --fill-color: #D2E3FC;\n",
              "      --hover-bg-color: #434B5C;\n",
              "      --hover-fill-color: #FFFFFF;\n",
              "      --disabled-bg-color: #3B4455;\n",
              "      --disabled-fill-color: #666;\n",
              "  }\n",
              "\n",
              "  .colab-df-quickchart {\n",
              "    background-color: var(--bg-color);\n",
              "    border: none;\n",
              "    border-radius: 50%;\n",
              "    cursor: pointer;\n",
              "    display: none;\n",
              "    fill: var(--fill-color);\n",
              "    height: 32px;\n",
              "    padding: 0;\n",
              "    width: 32px;\n",
              "  }\n",
              "\n",
              "  .colab-df-quickchart:hover {\n",
              "    background-color: var(--hover-bg-color);\n",
              "    box-shadow: 0 1px 2px rgba(60, 64, 67, 0.3), 0 1px 3px 1px rgba(60, 64, 67, 0.15);\n",
              "    fill: var(--button-hover-fill-color);\n",
              "  }\n",
              "\n",
              "  .colab-df-quickchart-complete:disabled,\n",
              "  .colab-df-quickchart-complete:disabled:hover {\n",
              "    background-color: var(--disabled-bg-color);\n",
              "    fill: var(--disabled-fill-color);\n",
              "    box-shadow: none;\n",
              "  }\n",
              "\n",
              "  .colab-df-spinner {\n",
              "    border: 2px solid var(--fill-color);\n",
              "    border-color: transparent;\n",
              "    border-bottom-color: var(--fill-color);\n",
              "    animation:\n",
              "      spin 1s steps(1) infinite;\n",
              "  }\n",
              "\n",
              "  @keyframes spin {\n",
              "    0% {\n",
              "      border-color: transparent;\n",
              "      border-bottom-color: var(--fill-color);\n",
              "      border-left-color: var(--fill-color);\n",
              "    }\n",
              "    20% {\n",
              "      border-color: transparent;\n",
              "      border-left-color: var(--fill-color);\n",
              "      border-top-color: var(--fill-color);\n",
              "    }\n",
              "    30% {\n",
              "      border-color: transparent;\n",
              "      border-left-color: var(--fill-color);\n",
              "      border-top-color: var(--fill-color);\n",
              "      border-right-color: var(--fill-color);\n",
              "    }\n",
              "    40% {\n",
              "      border-color: transparent;\n",
              "      border-right-color: var(--fill-color);\n",
              "      border-top-color: var(--fill-color);\n",
              "    }\n",
              "    60% {\n",
              "      border-color: transparent;\n",
              "      border-right-color: var(--fill-color);\n",
              "    }\n",
              "    80% {\n",
              "      border-color: transparent;\n",
              "      border-right-color: var(--fill-color);\n",
              "      border-bottom-color: var(--fill-color);\n",
              "    }\n",
              "    90% {\n",
              "      border-color: transparent;\n",
              "      border-bottom-color: var(--fill-color);\n",
              "    }\n",
              "  }\n",
              "</style>\n",
              "\n",
              "  <script>\n",
              "    async function quickchart(key) {\n",
              "      const quickchartButtonEl =\n",
              "        document.querySelector('#' + key + ' button');\n",
              "      quickchartButtonEl.disabled = true;  // To prevent multiple clicks.\n",
              "      quickchartButtonEl.classList.add('colab-df-spinner');\n",
              "      try {\n",
              "        const charts = await google.colab.kernel.invokeFunction(\n",
              "            'suggestCharts', [key], {});\n",
              "      } catch (error) {\n",
              "        console.error('Error during call to suggestCharts:', error);\n",
              "      }\n",
              "      quickchartButtonEl.classList.remove('colab-df-spinner');\n",
              "      quickchartButtonEl.classList.add('colab-df-quickchart-complete');\n",
              "    }\n",
              "    (() => {\n",
              "      let quickchartButtonEl =\n",
              "        document.querySelector('#df-153dae65-0f09-43c2-afb1-301cbc158bc4 button');\n",
              "      quickchartButtonEl.style.display =\n",
              "        google.colab.kernel.accessAllowed ? 'block' : 'none';\n",
              "    })();\n",
              "  </script>\n",
              "</div>\n",
              "    </div>\n",
              "  </div>\n"
            ]
          },
          "metadata": {},
          "execution_count": 26
        }
      ]
    },
    {
      "cell_type": "code",
      "source": [
        "combined_df.shape"
      ],
      "metadata": {
        "colab": {
          "base_uri": "https://localhost:8080/"
        },
        "id": "6c048qxSbU3E",
        "outputId": "1c54f759-ac6e-4dc9-e405-a6f94abfe0dc"
      },
      "execution_count": null,
      "outputs": [
        {
          "output_type": "execute_result",
          "data": {
            "text/plain": [
              "(105000, 55)"
            ]
          },
          "metadata": {},
          "execution_count": 12
        }
      ]
    },
    {
      "cell_type": "code",
      "source": [
        "len(all_dataframes)"
      ],
      "metadata": {
        "colab": {
          "base_uri": "https://localhost:8080/"
        },
        "id": "cdbMhNdEp6L4",
        "outputId": "778960cf-510b-4c65-c0fb-bbae0e46707b"
      },
      "execution_count": null,
      "outputs": [
        {
          "output_type": "execute_result",
          "data": {
            "text/plain": [
              "525"
            ]
          },
          "metadata": {},
          "execution_count": 6
        }
      ]
    },
    {
      "cell_type": "markdown",
      "source": [
        "# Data prep"
      ],
      "metadata": {
        "id": "Iuye_t2Mck4x"
      }
    },
    {
      "cell_type": "code",
      "source": [
        "from sklearn.model_selection import train_test_split\n",
        "X = combined_df.drop('label', axis=1)\n",
        "y = combined_df['label']\n",
        "\n",
        "X_train, X_test, y_train, y_test = train_test_split(X, y, test_size=0.3, random_state=42)"
      ],
      "metadata": {
        "id": "O1I_Rlz6bl3c"
      },
      "execution_count": null,
      "outputs": []
    },
    {
      "cell_type": "code",
      "source": [
        "print(X_train.head(10))"
      ],
      "metadata": {
        "colab": {
          "base_uri": "https://localhost:8080/"
        },
        "id": "r7en8Kc4cB1Z",
        "outputId": "24a249f2-40c1-4ab7-b658-17f80ada521e"
      },
      "execution_count": null,
      "outputs": [
        {
          "output_type": "stream",
          "name": "stdout",
          "text": [
            "      0          1      2          3          4          5          6      \\\n",
            "314  1365.0  105.60303    4.0  26.968600  30.951720  27.649836  30.052702   \n",
            "467  2744.0  105.60303    4.0  24.225454  23.725327  24.561783  25.502316   \n",
            "94   5837.0  105.60303    4.0  19.300188  18.593597  19.051060  18.203154   \n",
            "456   544.0  105.60303    4.0  23.800772  27.856167  28.224888  25.693254   \n",
            "354  2213.0  105.60303    4.0  20.126020  19.159122  23.023151  14.101392   \n",
            "23   4695.0  105.60303    4.0  19.222513  17.926594  18.370720  14.439596   \n",
            "249  4620.0  105.60303    4.0  21.785194  29.186796  21.808517  24.994963   \n",
            "272  1020.0  105.60303    4.0  24.919470  25.269474  25.781660  25.999743   \n",
            "501  1785.0  105.60303    4.0  30.630825  31.919424  30.474092  30.103798   \n",
            "5    1095.0  105.60303    4.0  18.332218  19.316801  18.656826  19.351206   \n",
            "\n",
            "         7          8          9      ...      10990      10991      10992  \\\n",
            "314  26.842928  28.532768  28.073906  ...  15.311355  15.234358  13.885149   \n",
            "467  23.817500  23.701868  27.453817  ...  14.961473  14.555616  13.360033   \n",
            "94   19.099588  18.588737  16.907406  ...  10.647368  11.924981  11.675497   \n",
            "456  25.372107  29.033060  25.998444  ...   9.754604   9.523672   9.176364   \n",
            "354  23.833723  14.115940  18.796328  ...   7.969749   8.955764   7.628476   \n",
            "23   14.092074  13.036108  13.609292  ...  16.975030  18.900198  17.399673   \n",
            "249  24.326344  24.031347  24.663990  ...  18.557081  20.669172  19.925674   \n",
            "272  25.029146  25.349420  26.612617  ...  16.215559  15.794587  16.618440   \n",
            "501  30.944517  32.230362  32.384594  ...  12.466683  12.130140  10.912654   \n",
            "5    18.549267  19.595110  20.402458  ...  13.980090  13.360408  14.871668   \n",
            "\n",
            "         10993      10994      10995      10996      10997      10998  \\\n",
            "314  13.893830  13.522988  14.459671  12.935056  11.750269  11.588948   \n",
            "467  14.283860  11.999227  11.929094  10.671609  10.131209  10.257609   \n",
            "94   11.965611  12.073196  11.413495  11.679235  12.247889  12.790599   \n",
            "456   8.116986   8.699560   5.893615   6.067382   5.578109   6.709430   \n",
            "354   6.238773   7.981139   8.147675   9.060708   7.694602   9.922015   \n",
            "23   17.441776  16.966470  15.605910  17.460028  16.364222  17.341566   \n",
            "249  16.111708  18.523798  15.134839  13.133592  15.144150  14.177982   \n",
            "272  16.210999  14.839264  13.952107  13.183786  14.731084  13.646832   \n",
            "501   9.853083  10.454759  10.945825  10.037798  10.138750   8.098666   \n",
            "5    15.721128  14.085009  14.890542  11.189156  12.656915  11.509663   \n",
            "\n",
            "         10999  \n",
            "314  10.219548  \n",
            "467  13.040062  \n",
            "94   12.844891  \n",
            "456   5.745769  \n",
            "354   9.256889  \n",
            "23   15.716956  \n",
            "249  15.812948  \n",
            "272  12.488964  \n",
            "501   8.957458  \n",
            "5    12.924667  \n",
            "\n",
            "[10 rows x 11000 columns]\n"
          ]
        }
      ]
    },
    {
      "cell_type": "code",
      "source": [
        "from sklearn.preprocessing import LabelEncoder\n",
        "\n",
        "label_encoder = LabelEncoder()\n",
        "y_train = label_encoder.fit_transform(y_train)\n",
        "y_test = label_encoder.transform(y_test)"
      ],
      "metadata": {
        "id": "RLk1IRf0cGDa"
      },
      "execution_count": null,
      "outputs": []
    },
    {
      "cell_type": "code",
      "source": [
        "print(y_train)"
      ],
      "metadata": {
        "colab": {
          "base_uri": "https://localhost:8080/"
        },
        "id": "Wj2Lnz9SceLh",
        "outputId": "3c99b272-d9bd-4c1b-d156-85f1b6ecd0d8"
      },
      "execution_count": null,
      "outputs": [
        {
          "output_type": "stream",
          "name": "stdout",
          "text": [
            "[1 0 0 ... 1 2 2]\n"
          ]
        }
      ]
    },
    {
      "cell_type": "markdown",
      "source": [
        "# Model training"
      ],
      "metadata": {
        "id": "xzbHX0ohcu2U"
      }
    },
    {
      "cell_type": "code",
      "source": [
        "from sklearn.svm import SVC\n",
        "from sklearn.neighbors import KNeighborsClassifier\n",
        "from sklearn.linear_model import LogisticRegression\n",
        "from sklearn.ensemble import RandomForestClassifier\n",
        "from sklearn.metrics import accuracy_score, classification_report"
      ],
      "metadata": {
        "id": "r7Y-DbH3civb"
      },
      "execution_count": null,
      "outputs": []
    },
    {
      "cell_type": "code",
      "source": [
        "# Logistic Regression model\n",
        "logreg_model = LogisticRegression(multi_class='auto', penalty='l2', C=1.0, solver='liblinear')\n",
        "logreg_model.fit(X_train, y_train)\n",
        "\n",
        "# Predictions and evaluation\n",
        "logreg_predictions = logreg_model.predict(X_test)\n",
        "logreg_accuracy = accuracy_score(y_test, logreg_predictions)\n",
        "print(\"Logistic Regression Accuracy:\", logreg_accuracy)\n",
        "print(\"Logistic Regression Classification Report:\\n\", classification_report(y_test, logreg_predictions))"
      ],
      "metadata": {
        "colab": {
          "base_uri": "https://localhost:8080/"
        },
        "id": "-DBlAzGhv-pN",
        "outputId": "8145eeee-7244-4ee6-a981-2cc5d18bc069"
      },
      "execution_count": null,
      "outputs": [
        {
          "output_type": "stream",
          "name": "stdout",
          "text": [
            "Logistic Regression Accuracy: 0.8227848101265823\n",
            "Logistic Regression Classification Report:\n",
            "               precision    recall  f1-score   support\n",
            "\n",
            "           0       0.82      0.74      0.78        50\n",
            "           1       0.82      0.96      0.89        53\n",
            "           2       0.82      0.76      0.79        55\n",
            "\n",
            "    accuracy                           0.82       158\n",
            "   macro avg       0.82      0.82      0.82       158\n",
            "weighted avg       0.82      0.82      0.82       158\n",
            "\n"
          ]
        }
      ]
    },
    {
      "cell_type": "code",
      "source": [
        "# Support Vector Classifier (SVC)\n",
        "svm_model_rbf = SVC(kernel='linear', C=1)\n",
        "svm_model_rbf.fit(X_train, y_train)\n",
        "\n",
        "# Predictions and evaluation for SVC\n",
        "svm_predictions = svm_model_rbf.predict(X_test)\n",
        "svm_accuracy = accuracy_score(y_test, svm_predictions)\n",
        "print(\"SVM Accuracy:\", svm_accuracy)\n",
        "print(\"SVM Classification Report:\\n\", classification_report(y_test, svm_predictions))"
      ],
      "metadata": {
        "id": "3aPGL__acxaq",
        "colab": {
          "base_uri": "https://localhost:8080/"
        },
        "outputId": "d7c1913c-f812-44a6-d8ba-9d8153f3100e"
      },
      "execution_count": null,
      "outputs": [
        {
          "output_type": "stream",
          "name": "stdout",
          "text": [
            "SVM Accuracy: 0.8291139240506329\n",
            "SVM Classification Report:\n",
            "               precision    recall  f1-score   support\n",
            "\n",
            "           0       0.70      0.90      0.79        50\n",
            "           1       0.92      0.91      0.91        53\n",
            "           2       0.90      0.69      0.78        55\n",
            "\n",
            "    accuracy                           0.83       158\n",
            "   macro avg       0.84      0.83      0.83       158\n",
            "weighted avg       0.85      0.83      0.83       158\n",
            "\n"
          ]
        }
      ]
    },
    {
      "cell_type": "code",
      "source": [
        "# Random Forest\n",
        "rf_model = RandomForestClassifier(n_estimators=100, random_state=42, max_features=\"auto\", max_depth=20)\n",
        "rf_model.fit(X_train, y_train)\n",
        "\n",
        "# Predictions and evaluation for Random Forest\n",
        "rf_predictions = rf_model.predict(X_test)\n",
        "rf_accuracy = accuracy_score(y_test, rf_predictions)\n",
        "print(\"Random Forest Accuracy:\", rf_accuracy)\n",
        "print(\"Random Forest Classification Report:\\n\", classification_report(y_test, rf_predictions))"
      ],
      "metadata": {
        "colab": {
          "base_uri": "https://localhost:8080/"
        },
        "id": "5CBBFg1XqCr3",
        "outputId": "6e07c4dc-b5ca-49a8-ae7e-18e6e42a3ce3"
      },
      "execution_count": null,
      "outputs": [
        {
          "output_type": "stream",
          "name": "stderr",
          "text": [
            "/usr/local/lib/python3.10/dist-packages/sklearn/ensemble/_forest.py:424: FutureWarning: `max_features='auto'` has been deprecated in 1.1 and will be removed in 1.3. To keep the past behaviour, explicitly set `max_features='sqrt'` or remove this parameter as it is also the default value for RandomForestClassifiers and ExtraTreesClassifiers.\n",
            "  warn(\n"
          ]
        },
        {
          "output_type": "stream",
          "name": "stdout",
          "text": [
            "Random Forest Accuracy: 0.930379746835443\n",
            "Random Forest Classification Report:\n",
            "               precision    recall  f1-score   support\n",
            "\n",
            "           0       0.92      0.90      0.91        50\n",
            "           1       0.94      0.96      0.95        53\n",
            "           2       0.93      0.93      0.93        55\n",
            "\n",
            "    accuracy                           0.93       158\n",
            "   macro avg       0.93      0.93      0.93       158\n",
            "weighted avg       0.93      0.93      0.93       158\n",
            "\n"
          ]
        }
      ]
    },
    {
      "cell_type": "code",
      "source": [
        "!pip install xgboost"
      ],
      "metadata": {
        "colab": {
          "base_uri": "https://localhost:8080/"
        },
        "id": "ZX5eLxJDPZP4",
        "outputId": "a843489b-cbac-41ed-d2e5-66d535489e61"
      },
      "execution_count": null,
      "outputs": [
        {
          "output_type": "stream",
          "name": "stdout",
          "text": [
            "Requirement already satisfied: xgboost in /usr/local/lib/python3.10/dist-packages (2.0.3)\n",
            "Requirement already satisfied: numpy in /usr/local/lib/python3.10/dist-packages (from xgboost) (1.23.5)\n",
            "Requirement already satisfied: scipy in /usr/local/lib/python3.10/dist-packages (from xgboost) (1.11.4)\n"
          ]
        }
      ]
    },
    {
      "cell_type": "code",
      "source": [
        "import xgboost as xgb\n",
        "\n",
        "# XGBoost Classifier\n",
        "xgb_model = xgb.XGBClassifier(objective='multi:softmax', num_class=3, random_state=42)\n",
        "xgb_model.fit(X_train, y_train)\n",
        "\n",
        "# Predictions and evaluation\n",
        "xgb_predictions = xgb_model.predict(X_test)\n",
        "xgb_accuracy = accuracy_score(y_test, xgb_predictions)\n",
        "print(\"XGBoost Accuracy:\", xgb_accuracy)\n",
        "print(\"XGBoost Classification Report:\\n\", classification_report(y_test, xgb_predictions))"
      ],
      "metadata": {
        "colab": {
          "base_uri": "https://localhost:8080/"
        },
        "id": "8q2slxIrPdbn",
        "outputId": "ea93862d-a6b1-481d-b17b-5e64d8b9dbbd"
      },
      "execution_count": null,
      "outputs": [
        {
          "output_type": "stream",
          "name": "stdout",
          "text": [
            "XGBoost Accuracy: 0.9050632911392406\n",
            "XGBoost Classification Report:\n",
            "               precision    recall  f1-score   support\n",
            "\n",
            "           0       0.93      0.84      0.88        50\n",
            "           1       0.91      0.96      0.94        53\n",
            "           2       0.88      0.91      0.89        55\n",
            "\n",
            "    accuracy                           0.91       158\n",
            "   macro avg       0.91      0.90      0.90       158\n",
            "weighted avg       0.91      0.91      0.90       158\n",
            "\n"
          ]
        }
      ]
    }
  ]
}