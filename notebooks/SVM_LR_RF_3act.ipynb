{
  "cells": [
    {
      "cell_type": "markdown",
      "metadata": {
        "id": "IycAsEqDTKHk"
      },
      "source": [
        "# Environment prep"
      ]
    },
    {
      "cell_type": "code",
      "execution_count": 2,
      "metadata": {
        "id": "q3OgjM8SUwSt"
      },
      "outputs": [],
      "source": [
        "import numpy as np\n",
        "import pandas as pd\n",
        "import tensorflow as tf\n",
        "from tensorflow.keras import layers, models\n",
        "import matplotlib.pyplot as plt\n",
        "import os"
      ]
    },
    {
      "cell_type": "markdown",
      "metadata": {
        "id": "0UolO-76U0Ld"
      },
      "source": [
        "# Load data"
      ]
    },
    {
      "cell_type": "code",
      "execution_count": 50,
      "metadata": {
        "id": "7IJlbfyX2u9e"
      },
      "outputs": [],
      "source": [
        "import os\n",
        "import pandas as pd\n",
        "\n",
        "# Specify the path to your main folder\n",
        "main_folder_path = '/Users/jonathankoong/Documents/GitHub/ESP32-WiFi-Sensing/datasets/03-tvat-segments'\n",
        "\n",
        "# Initialize an empty list to store flattened arrays and labels\n",
        "all_flattened_arrays = []\n",
        "all_labels = []\n",
        "\n",
        "# Iterate through specific subfolders\n",
        "for activity_folder in [\"SO\", \"LL\", \"RA\"]: #, \"JJ\", \"LA\", \"RL\", \"NA\"]: # classes 0 - 6\n",
        "    activity_folder_path = os.path.join(main_folder_path, activity_folder)\n",
        "\n",
        "    # Check if it's a directory\n",
        "    if os.path.isdir(activity_folder_path):\n",
        "        # Iterate through files in the subfolder\n",
        "        for file_name in os.listdir(activity_folder_path):\n",
        "            if file_name.endswith('.csv'):\n",
        "                file_path = os.path.join(activity_folder_path, file_name)\n",
        "\n",
        "                # Read the data from each CSV file into a DataFrame\n",
        "                # df = pd.read_csv(file_path)  # Adjust the read_csv parameters based on your file format\n",
        "\n",
        "                # Read the data from each CSV file into a DataFrame\n",
        "                df = pd.read_csv(file_path, index_col=0)  # Use first column as index\n",
        "                \n",
        "                # Drop the 'timestamp' column\n",
        "                df = df.drop(columns=['timestamp'])\n",
        "\n",
        "                # Drop guard band subcarriers and DC null (column names are strings)\n",
        "                columns_to_drop = ['2', '3', '4', '5', '32', '59', '60', '61', '62', '63']\n",
        "                df = df.drop(columns=columns_to_drop, errors='ignore')\n",
        "\n",
        "                # Flatten the DataFrame into a 1D array\n",
        "                flattened_array = df.values.flatten()\n",
        "\n",
        "                # Append the flattened array to the list\n",
        "                all_flattened_arrays.append(flattened_array)\n",
        "\n",
        "                # Append the label to the list\n",
        "                all_labels.append(activity_folder)\n",
        "\n",
        "# Create a DataFrame from the flattened arrays\n",
        "combined_df = pd.DataFrame(all_flattened_arrays)\n",
        "\n",
        "# Add a label column with the folder names\n",
        "combined_df['label'] = all_labels\n"
      ]
    },
    {
      "cell_type": "code",
      "execution_count": 51,
      "metadata": {
        "colab": {
          "base_uri": "https://localhost:8080/"
        },
        "id": "dPL-3C4L21al",
        "outputId": "98eebbb3-ac86-4379-cb3e-66600ac90df0"
      },
      "outputs": [
        {
          "data": {
            "text/plain": [
              "(525, 10801)"
            ]
          },
          "execution_count": 51,
          "metadata": {},
          "output_type": "execute_result"
        }
      ],
      "source": [
        "combined_df.shape"
      ]
    },
    {
      "cell_type": "code",
      "execution_count": 52,
      "metadata": {
        "colab": {
          "base_uri": "https://localhost:8080/",
          "height": 412
        },
        "id": "vqFKUtg-ZkCs",
        "outputId": "3771c1b2-2cf0-4de3-bdab-cffd9a8deee0"
      },
      "outputs": [
        {
          "data": {
            "text/html": [
              "<div>\n",
              "<style scoped>\n",
              "    .dataframe tbody tr th:only-of-type {\n",
              "        vertical-align: middle;\n",
              "    }\n",
              "\n",
              "    .dataframe tbody tr th {\n",
              "        vertical-align: top;\n",
              "    }\n",
              "\n",
              "    .dataframe thead th {\n",
              "        text-align: right;\n",
              "    }\n",
              "</style>\n",
              "<table border=\"1\" class=\"dataframe\">\n",
              "  <thead>\n",
              "    <tr style=\"text-align: right;\">\n",
              "      <th></th>\n",
              "      <th>0</th>\n",
              "      <th>1</th>\n",
              "      <th>2</th>\n",
              "      <th>3</th>\n",
              "      <th>4</th>\n",
              "      <th>5</th>\n",
              "      <th>6</th>\n",
              "      <th>7</th>\n",
              "      <th>8</th>\n",
              "      <th>9</th>\n",
              "      <th>...</th>\n",
              "      <th>10791</th>\n",
              "      <th>10792</th>\n",
              "      <th>10793</th>\n",
              "      <th>10794</th>\n",
              "      <th>10795</th>\n",
              "      <th>10796</th>\n",
              "      <th>10797</th>\n",
              "      <th>10798</th>\n",
              "      <th>10799</th>\n",
              "      <th>label</th>\n",
              "    </tr>\n",
              "  </thead>\n",
              "  <tbody>\n",
              "    <tr>\n",
              "      <th>0</th>\n",
              "      <td>105.60303</td>\n",
              "      <td>4.0</td>\n",
              "      <td>29.907444</td>\n",
              "      <td>28.615831</td>\n",
              "      <td>19.825764</td>\n",
              "      <td>27.628944</td>\n",
              "      <td>19.302980</td>\n",
              "      <td>27.627623</td>\n",
              "      <td>29.752916</td>\n",
              "      <td>25.797134</td>\n",
              "      <td>...</td>\n",
              "      <td>15.134412</td>\n",
              "      <td>14.045612</td>\n",
              "      <td>13.454120</td>\n",
              "      <td>15.081297</td>\n",
              "      <td>15.236600</td>\n",
              "      <td>13.815377</td>\n",
              "      <td>15.487723</td>\n",
              "      <td>16.161135</td>\n",
              "      <td>15.222630</td>\n",
              "      <td>SO</td>\n",
              "    </tr>\n",
              "    <tr>\n",
              "      <th>1</th>\n",
              "      <td>105.60303</td>\n",
              "      <td>4.0</td>\n",
              "      <td>35.435900</td>\n",
              "      <td>32.111202</td>\n",
              "      <td>34.941986</td>\n",
              "      <td>34.966465</td>\n",
              "      <td>30.970886</td>\n",
              "      <td>29.765505</td>\n",
              "      <td>33.494366</td>\n",
              "      <td>27.064217</td>\n",
              "      <td>...</td>\n",
              "      <td>9.267310</td>\n",
              "      <td>10.472629</td>\n",
              "      <td>12.653081</td>\n",
              "      <td>10.365606</td>\n",
              "      <td>8.482576</td>\n",
              "      <td>13.205768</td>\n",
              "      <td>12.607863</td>\n",
              "      <td>13.191230</td>\n",
              "      <td>10.582450</td>\n",
              "      <td>SO</td>\n",
              "    </tr>\n",
              "    <tr>\n",
              "      <th>2</th>\n",
              "      <td>105.60303</td>\n",
              "      <td>4.0</td>\n",
              "      <td>28.678368</td>\n",
              "      <td>26.948063</td>\n",
              "      <td>29.076746</td>\n",
              "      <td>26.893276</td>\n",
              "      <td>26.750805</td>\n",
              "      <td>25.161634</td>\n",
              "      <td>25.242552</td>\n",
              "      <td>23.887272</td>\n",
              "      <td>...</td>\n",
              "      <td>15.078357</td>\n",
              "      <td>15.417873</td>\n",
              "      <td>13.793548</td>\n",
              "      <td>14.571228</td>\n",
              "      <td>12.989577</td>\n",
              "      <td>12.409041</td>\n",
              "      <td>12.444606</td>\n",
              "      <td>12.549515</td>\n",
              "      <td>13.096099</td>\n",
              "      <td>SO</td>\n",
              "    </tr>\n",
              "    <tr>\n",
              "      <th>3</th>\n",
              "      <td>105.60303</td>\n",
              "      <td>4.0</td>\n",
              "      <td>23.575949</td>\n",
              "      <td>22.861840</td>\n",
              "      <td>22.801249</td>\n",
              "      <td>19.578780</td>\n",
              "      <td>22.610231</td>\n",
              "      <td>20.190742</td>\n",
              "      <td>21.172098</td>\n",
              "      <td>20.621500</td>\n",
              "      <td>...</td>\n",
              "      <td>11.195650</td>\n",
              "      <td>10.837091</td>\n",
              "      <td>9.713359</td>\n",
              "      <td>10.499819</td>\n",
              "      <td>9.711148</td>\n",
              "      <td>8.702316</td>\n",
              "      <td>9.072693</td>\n",
              "      <td>8.859162</td>\n",
              "      <td>8.950066</td>\n",
              "      <td>SO</td>\n",
              "    </tr>\n",
              "    <tr>\n",
              "      <th>4</th>\n",
              "      <td>105.60303</td>\n",
              "      <td>4.0</td>\n",
              "      <td>25.294096</td>\n",
              "      <td>28.870460</td>\n",
              "      <td>27.890263</td>\n",
              "      <td>27.626226</td>\n",
              "      <td>28.290956</td>\n",
              "      <td>28.891348</td>\n",
              "      <td>27.397211</td>\n",
              "      <td>27.855785</td>\n",
              "      <td>...</td>\n",
              "      <td>14.181855</td>\n",
              "      <td>12.957934</td>\n",
              "      <td>14.783259</td>\n",
              "      <td>15.907819</td>\n",
              "      <td>14.568509</td>\n",
              "      <td>15.477662</td>\n",
              "      <td>15.702929</td>\n",
              "      <td>13.719675</td>\n",
              "      <td>13.862663</td>\n",
              "      <td>SO</td>\n",
              "    </tr>\n",
              "    <tr>\n",
              "      <th>5</th>\n",
              "      <td>105.60303</td>\n",
              "      <td>4.0</td>\n",
              "      <td>25.360243</td>\n",
              "      <td>27.000307</td>\n",
              "      <td>26.333126</td>\n",
              "      <td>25.987385</td>\n",
              "      <td>26.713417</td>\n",
              "      <td>26.627092</td>\n",
              "      <td>25.864370</td>\n",
              "      <td>27.574638</td>\n",
              "      <td>...</td>\n",
              "      <td>14.059562</td>\n",
              "      <td>13.034400</td>\n",
              "      <td>13.831089</td>\n",
              "      <td>12.411201</td>\n",
              "      <td>12.986338</td>\n",
              "      <td>13.156770</td>\n",
              "      <td>12.413895</td>\n",
              "      <td>12.552805</td>\n",
              "      <td>11.527557</td>\n",
              "      <td>SO</td>\n",
              "    </tr>\n",
              "    <tr>\n",
              "      <th>6</th>\n",
              "      <td>105.60303</td>\n",
              "      <td>4.0</td>\n",
              "      <td>15.766710</td>\n",
              "      <td>16.020820</td>\n",
              "      <td>16.549532</td>\n",
              "      <td>17.142370</td>\n",
              "      <td>16.550337</td>\n",
              "      <td>15.803808</td>\n",
              "      <td>13.302514</td>\n",
              "      <td>13.450375</td>\n",
              "      <td>...</td>\n",
              "      <td>18.897379</td>\n",
              "      <td>18.874664</td>\n",
              "      <td>13.853906</td>\n",
              "      <td>19.551609</td>\n",
              "      <td>13.852486</td>\n",
              "      <td>20.200146</td>\n",
              "      <td>20.973116</td>\n",
              "      <td>20.642500</td>\n",
              "      <td>21.033592</td>\n",
              "      <td>SO</td>\n",
              "    </tr>\n",
              "    <tr>\n",
              "      <th>7</th>\n",
              "      <td>105.60303</td>\n",
              "      <td>4.0</td>\n",
              "      <td>28.039100</td>\n",
              "      <td>29.377169</td>\n",
              "      <td>28.489439</td>\n",
              "      <td>28.330612</td>\n",
              "      <td>28.888783</td>\n",
              "      <td>30.476643</td>\n",
              "      <td>27.594940</td>\n",
              "      <td>29.129520</td>\n",
              "      <td>...</td>\n",
              "      <td>10.480808</td>\n",
              "      <td>11.319244</td>\n",
              "      <td>11.328136</td>\n",
              "      <td>12.379870</td>\n",
              "      <td>12.079991</td>\n",
              "      <td>10.954422</td>\n",
              "      <td>13.222180</td>\n",
              "      <td>12.963613</td>\n",
              "      <td>13.784920</td>\n",
              "      <td>SO</td>\n",
              "    </tr>\n",
              "    <tr>\n",
              "      <th>8</th>\n",
              "      <td>105.60303</td>\n",
              "      <td>4.0</td>\n",
              "      <td>23.022243</td>\n",
              "      <td>22.621902</td>\n",
              "      <td>22.456533</td>\n",
              "      <td>23.461690</td>\n",
              "      <td>17.109310</td>\n",
              "      <td>16.819458</td>\n",
              "      <td>21.685760</td>\n",
              "      <td>15.803164</td>\n",
              "      <td>...</td>\n",
              "      <td>10.996972</td>\n",
              "      <td>11.340766</td>\n",
              "      <td>11.531186</td>\n",
              "      <td>12.181234</td>\n",
              "      <td>12.042315</td>\n",
              "      <td>11.346938</td>\n",
              "      <td>12.614502</td>\n",
              "      <td>12.040687</td>\n",
              "      <td>12.305752</td>\n",
              "      <td>SO</td>\n",
              "    </tr>\n",
              "    <tr>\n",
              "      <th>9</th>\n",
              "      <td>105.60303</td>\n",
              "      <td>4.0</td>\n",
              "      <td>21.041311</td>\n",
              "      <td>21.251022</td>\n",
              "      <td>19.161726</td>\n",
              "      <td>19.811663</td>\n",
              "      <td>20.116665</td>\n",
              "      <td>20.484148</td>\n",
              "      <td>19.391909</td>\n",
              "      <td>19.529974</td>\n",
              "      <td>...</td>\n",
              "      <td>12.831701</td>\n",
              "      <td>12.353397</td>\n",
              "      <td>12.568945</td>\n",
              "      <td>11.893066</td>\n",
              "      <td>13.017181</td>\n",
              "      <td>13.795824</td>\n",
              "      <td>13.802479</td>\n",
              "      <td>13.669675</td>\n",
              "      <td>14.736217</td>\n",
              "      <td>SO</td>\n",
              "    </tr>\n",
              "  </tbody>\n",
              "</table>\n",
              "<p>10 rows × 10801 columns</p>\n",
              "</div>"
            ],
            "text/plain": [
              "           0    1          2          3          4          5          6  \\\n",
              "0  105.60303  4.0  29.907444  28.615831  19.825764  27.628944  19.302980   \n",
              "1  105.60303  4.0  35.435900  32.111202  34.941986  34.966465  30.970886   \n",
              "2  105.60303  4.0  28.678368  26.948063  29.076746  26.893276  26.750805   \n",
              "3  105.60303  4.0  23.575949  22.861840  22.801249  19.578780  22.610231   \n",
              "4  105.60303  4.0  25.294096  28.870460  27.890263  27.626226  28.290956   \n",
              "5  105.60303  4.0  25.360243  27.000307  26.333126  25.987385  26.713417   \n",
              "6  105.60303  4.0  15.766710  16.020820  16.549532  17.142370  16.550337   \n",
              "7  105.60303  4.0  28.039100  29.377169  28.489439  28.330612  28.888783   \n",
              "8  105.60303  4.0  23.022243  22.621902  22.456533  23.461690  17.109310   \n",
              "9  105.60303  4.0  21.041311  21.251022  19.161726  19.811663  20.116665   \n",
              "\n",
              "           7          8          9  ...      10791      10792      10793  \\\n",
              "0  27.627623  29.752916  25.797134  ...  15.134412  14.045612  13.454120   \n",
              "1  29.765505  33.494366  27.064217  ...   9.267310  10.472629  12.653081   \n",
              "2  25.161634  25.242552  23.887272  ...  15.078357  15.417873  13.793548   \n",
              "3  20.190742  21.172098  20.621500  ...  11.195650  10.837091   9.713359   \n",
              "4  28.891348  27.397211  27.855785  ...  14.181855  12.957934  14.783259   \n",
              "5  26.627092  25.864370  27.574638  ...  14.059562  13.034400  13.831089   \n",
              "6  15.803808  13.302514  13.450375  ...  18.897379  18.874664  13.853906   \n",
              "7  30.476643  27.594940  29.129520  ...  10.480808  11.319244  11.328136   \n",
              "8  16.819458  21.685760  15.803164  ...  10.996972  11.340766  11.531186   \n",
              "9  20.484148  19.391909  19.529974  ...  12.831701  12.353397  12.568945   \n",
              "\n",
              "       10794      10795      10796      10797      10798      10799  label  \n",
              "0  15.081297  15.236600  13.815377  15.487723  16.161135  15.222630     SO  \n",
              "1  10.365606   8.482576  13.205768  12.607863  13.191230  10.582450     SO  \n",
              "2  14.571228  12.989577  12.409041  12.444606  12.549515  13.096099     SO  \n",
              "3  10.499819   9.711148   8.702316   9.072693   8.859162   8.950066     SO  \n",
              "4  15.907819  14.568509  15.477662  15.702929  13.719675  13.862663     SO  \n",
              "5  12.411201  12.986338  13.156770  12.413895  12.552805  11.527557     SO  \n",
              "6  19.551609  13.852486  20.200146  20.973116  20.642500  21.033592     SO  \n",
              "7  12.379870  12.079991  10.954422  13.222180  12.963613  13.784920     SO  \n",
              "8  12.181234  12.042315  11.346938  12.614502  12.040687  12.305752     SO  \n",
              "9  11.893066  13.017181  13.795824  13.802479  13.669675  14.736217     SO  \n",
              "\n",
              "[10 rows x 10801 columns]"
            ]
          },
          "execution_count": 52,
          "metadata": {},
          "output_type": "execute_result"
        }
      ],
      "source": [
        "#combined_df = combined_df.iloc[:, 1:]\n",
        "combined_df.head(10)"
      ]
    },
    {
      "cell_type": "markdown",
      "metadata": {
        "id": "Iuye_t2Mck4x"
      },
      "source": [
        "# Data prep"
      ]
    },
    {
      "cell_type": "code",
      "execution_count": 53,
      "metadata": {
        "id": "O1I_Rlz6bl3c"
      },
      "outputs": [],
      "source": [
        "from sklearn.model_selection import train_test_split\n",
        "X = combined_df.drop('label', axis=1)\n",
        "y = combined_df['label']\n",
        "\n",
        "X_train, X_test, y_train, y_test = train_test_split(X, y, test_size=0.3, random_state=42)"
      ]
    },
    {
      "cell_type": "code",
      "execution_count": 54,
      "metadata": {
        "colab": {
          "base_uri": "https://localhost:8080/"
        },
        "id": "r7en8Kc4cB1Z",
        "outputId": "24a249f2-40c1-4ab7-b658-17f80ada521e"
      },
      "outputs": [
        {
          "name": "stdout",
          "output_type": "stream",
          "text": [
            "         0      1          2          3          4          5          6      \\\n",
            "314  105.60303    4.0  27.310316  27.086401  26.261332  29.031988  27.377264   \n",
            "467  105.60303    4.0  27.590157  27.530125  27.793114  25.908903  28.750614   \n",
            "94   105.60303    4.0  26.206268  26.147360  17.714241  18.659363  17.782763   \n",
            "456  105.60303    4.0  27.966055  28.319980  28.192162  28.496426  29.706180   \n",
            "354  105.60303    4.0  21.500654  20.905096  20.699488  22.053700  23.455791   \n",
            "23   105.60303    4.0   3.380016   8.038288   5.705960   9.001771   6.966027   \n",
            "249  105.60303    4.0   8.197696   8.380623   7.632053   8.051704   7.384277   \n",
            "272  105.60303    4.0  11.258986  15.529063  12.649450  16.328825  13.918297   \n",
            "501  105.60303    4.0  20.742592  22.131620  20.835306  22.100754  20.058554   \n",
            "5    105.60303    4.0  25.360243  27.000307  26.333126  25.987385  26.713417   \n",
            "\n",
            "         7          8          9      ...      10790      10791      10792  \\\n",
            "314  27.222242  28.172104  27.846365  ...  18.961596  18.022728  18.272130   \n",
            "467  27.002657  26.988512  28.887304  ...   9.472380   7.839085   7.611541   \n",
            "94   19.697880  17.509909  28.926150  ...  16.675354  18.129720  19.989136   \n",
            "456  28.825975  30.275380  28.467922  ...  12.245000  12.450758  11.889060   \n",
            "354  28.219059  22.434326  22.673452  ...   7.994855   7.638884   8.153344   \n",
            "23    6.788525   8.956605   8.845916  ...  18.708479  15.295006  17.016891   \n",
            "249   9.154970   7.531917   8.880512  ...  19.988201  20.117668  19.338790   \n",
            "272  11.692768  12.644920  12.781824  ...  23.469522  22.805761  23.458899   \n",
            "501  20.777680  20.632725  20.701185  ...  10.655843   9.256058   8.767428   \n",
            "5    26.627092  25.864370  27.574638  ...  13.931760  14.059562  13.034400   \n",
            "\n",
            "         10793      10794      10795      10796      10797      10798  \\\n",
            "314  16.039906  18.652590  16.174074  17.493288  16.548153  17.228964   \n",
            "467   7.733676   8.425598   6.821930   6.002324   5.130208   5.033810   \n",
            "94   17.627092  17.567800  17.752438  18.823847  18.042463  18.242094   \n",
            "456  11.181711  10.454926   9.425474   9.724341   8.743984   7.982021   \n",
            "354   7.197910   5.646926   6.218354   6.471553   5.464499   4.179874   \n",
            "23   12.728002  10.747252  13.116660  10.529729   8.378353   8.006138   \n",
            "249  17.854890  18.302261  17.310516  17.578781  16.586071  14.377403   \n",
            "272  21.982931  21.490915  20.157990  21.012163  19.551260  19.330906   \n",
            "501   6.760972   7.838075   7.705088   5.933904   5.291605   5.758595   \n",
            "5    13.831089  12.411201  12.986338  13.156770  12.413895  12.552805   \n",
            "\n",
            "         10799  \n",
            "314  15.194685  \n",
            "467   5.237104  \n",
            "94   17.533295  \n",
            "456   7.872742  \n",
            "354   5.258706  \n",
            "23    8.871390  \n",
            "249  14.342769  \n",
            "272  19.306267  \n",
            "501   4.699430  \n",
            "5    11.527557  \n",
            "\n",
            "[10 rows x 10800 columns]\n"
          ]
        }
      ],
      "source": [
        "print(X_train.head(10))"
      ]
    },
    {
      "cell_type": "code",
      "execution_count": 55,
      "metadata": {
        "id": "RLk1IRf0cGDa"
      },
      "outputs": [
        {
          "name": "stdout",
          "output_type": "stream",
          "text": [
            "Label mapping: {0: 'LL', 1: 'RA', 2: 'SO'}\n"
          ]
        }
      ],
      "source": [
        "from sklearn.preprocessing import LabelEncoder\n",
        "\n",
        "label_encoder = LabelEncoder()\n",
        "y_train = label_encoder.fit_transform(y_train)\n",
        "y_test = label_encoder.transform(y_test)\n",
        "print(\"Label mapping:\", dict(enumerate(label_encoder.classes_)))\n"
      ]
    },
    {
      "cell_type": "code",
      "execution_count": 56,
      "metadata": {
        "colab": {
          "base_uri": "https://localhost:8080/"
        },
        "id": "Wj2Lnz9SceLh",
        "outputId": "3c99b272-d9bd-4c1b-d156-85f1b6ecd0d8"
      },
      "outputs": [
        {
          "name": "stdout",
          "output_type": "stream",
          "text": [
            "[0 1 2 1 1 2 0 0 1 2 2 2 1 1 2 1 1 2 1 1 2 2 0 0 2 1 0 2 2 0 1 2 2 2 1 2 2\n",
            " 0 0 0 0 2 0 1 1 1 1 1 1 2 1 2 1 0 0 1 1 0 0 2 2 1 2 2 2 0 1 1 2 2 2 2 0 0\n",
            " 2 0 0 1 2 0 0 0 1 1 1 0 1 1 1 0 0 2 0 2 1 0 0 0 2 2 0 0 1 2 1 2 0 0 1 2 1\n",
            " 2 0 0 2 1 2 2 0 0 2 1 1 2 0 0 0 0 0 1 1 1 0 2 0 0 1 0 2 1 0 1 1 1 1 0 0 1\n",
            " 1 2 0 0 1 1 1 1 0 1 1 2 0 2 0 0 0 2 2 1 0 1 1 2 1 0 1 2 1 0 2 1 2 1 2 0 2\n",
            " 0 0 1 2 2 2 2 0 2 1 1 0 2 2 0 1 1 1 0 2 1 1 0 0 1 0 1 2 0 1 2 0 1 0 1 0 2\n",
            " 0 0 2 2 2 0 0 0 1 2 1 0 0 1 0 2 1 1 2 2 2 2 1 2 0 1 2 0 2 2 2 1 1 1 0 1 0\n",
            " 1 1 0 0 0 0 0 1 0 1 1 0 1 0 0 2 2 0 1 0 0 0 2 2 1 2 1 1 2 1 2 0 2 1 0 1 1\n",
            " 1 2 0 1 2 1 0 0 2 0 2 1 0 2 0 1 2 0 1 0 0 2 1 2 1 0 1 0 1 1 0 1 0 2 1 2 1\n",
            " 0 0 2 0 1 2 0 1 0 1 0 1 1 1 0 0 2 2 2 1 2 1 2 1 0 0 1 2 2 2 2 0 1 2]\n"
          ]
        }
      ],
      "source": [
        "print(y_train)"
      ]
    },
    {
      "cell_type": "markdown",
      "metadata": {
        "id": "xzbHX0ohcu2U"
      },
      "source": [
        "# Model training"
      ]
    },
    {
      "cell_type": "code",
      "execution_count": 57,
      "metadata": {
        "id": "r7Y-DbH3civb"
      },
      "outputs": [],
      "source": [
        "from sklearn.svm import SVC\n",
        "from sklearn.neighbors import KNeighborsClassifier\n",
        "from sklearn.linear_model import LogisticRegression\n",
        "from sklearn.ensemble import RandomForestClassifier\n",
        "from sklearn.metrics import accuracy_score, classification_report"
      ]
    },
    {
      "cell_type": "code",
      "execution_count": 58,
      "metadata": {
        "colab": {
          "base_uri": "https://localhost:8080/"
        },
        "id": "-DBlAzGhv-pN",
        "outputId": "8145eeee-7244-4ee6-a981-2cc5d18bc069"
      },
      "outputs": [
        {
          "name": "stderr",
          "output_type": "stream",
          "text": [
            "/Users/jonathankoong/Documents/GitHub/ESP32-WiFi-Sensing/env/lib/python3.13/site-packages/sklearn/linear_model/_logistic.py:1272: FutureWarning: 'multi_class' was deprecated in version 1.5 and will be removed in 1.8. From then on, it will always use 'multinomial'. Leave it to its default value to avoid this warning.\n",
            "  warnings.warn(\n",
            "/Users/jonathankoong/Documents/GitHub/ESP32-WiFi-Sensing/env/lib/python3.13/site-packages/sklearn/linear_model/_logistic.py:1296: FutureWarning: Using the 'liblinear' solver for multiclass classification is deprecated. An error will be raised in 1.8. Either use another solver which supports the multinomial loss or wrap the estimator in a OneVsRestClassifier to keep applying a one-versus-rest scheme.\n",
            "  warnings.warn(\n"
          ]
        },
        {
          "name": "stdout",
          "output_type": "stream",
          "text": [
            "Logistic Regression Accuracy: 0.8291139240506329\n",
            "Logistic Regression Classification Report:\n",
            "               precision    recall  f1-score   support\n",
            "\n",
            "           0       0.83      0.70      0.76        50\n",
            "           1       0.88      0.96      0.92        53\n",
            "           2       0.78      0.82      0.80        55\n",
            "\n",
            "    accuracy                           0.83       158\n",
            "   macro avg       0.83      0.83      0.83       158\n",
            "weighted avg       0.83      0.83      0.83       158\n",
            "\n"
          ]
        }
      ],
      "source": [
        "# Logistic Regression model\n",
        "logreg_model = LogisticRegression(multi_class='auto', penalty='l2', C=1.0, solver='liblinear')\n",
        "logreg_model.fit(X_train, y_train)\n",
        "\n",
        "# Predictions and evaluation\n",
        "logreg_predictions = logreg_model.predict(X_test)\n",
        "logreg_accuracy = accuracy_score(y_test, logreg_predictions)\n",
        "print(\"Logistic Regression Accuracy:\", logreg_accuracy)\n",
        "print(\"Logistic Regression Classification Report:\\n\", classification_report(y_test, logreg_predictions))"
      ]
    },
    {
      "cell_type": "code",
      "execution_count": 59,
      "metadata": {
        "colab": {
          "base_uri": "https://localhost:8080/"
        },
        "id": "3aPGL__acxaq",
        "outputId": "d7c1913c-f812-44a6-d8ba-9d8153f3100e"
      },
      "outputs": [
        {
          "name": "stdout",
          "output_type": "stream",
          "text": [
            "SVM Accuracy: 0.8544303797468354\n",
            "SVM Classification Report:\n",
            "               precision    recall  f1-score   support\n",
            "\n",
            "           0       0.79      0.84      0.82        50\n",
            "           1       0.90      0.89      0.90        53\n",
            "           2       0.87      0.84      0.85        55\n",
            "\n",
            "    accuracy                           0.85       158\n",
            "   macro avg       0.85      0.85      0.85       158\n",
            "weighted avg       0.86      0.85      0.85       158\n",
            "\n"
          ]
        }
      ],
      "source": [
        "# Support Vector Classifier (SVC)\n",
        "svm_model_rbf = SVC(kernel='linear', C=1)\n",
        "svm_model_rbf.fit(X_train, y_train)\n",
        "\n",
        "# Predictions and evaluation for SVC\n",
        "svm_predictions = svm_model_rbf.predict(X_test)\n",
        "svm_accuracy = accuracy_score(y_test, svm_predictions)\n",
        "print(\"SVM Accuracy:\", svm_accuracy)\n",
        "print(\"SVM Classification Report:\\n\", classification_report(y_test, svm_predictions))"
      ]
    },
    {
      "cell_type": "code",
      "execution_count": 60,
      "metadata": {
        "colab": {
          "base_uri": "https://localhost:8080/"
        },
        "id": "5CBBFg1XqCr3",
        "outputId": "6e07c4dc-b5ca-49a8-ae7e-18e6e42a3ce3"
      },
      "outputs": [
        {
          "name": "stdout",
          "output_type": "stream",
          "text": [
            "Random Forest Accuracy: 0.9367088607594937\n",
            "Random Forest Classification Report:\n",
            "               precision    recall  f1-score   support\n",
            "\n",
            "           0       0.98      0.90      0.94        50\n",
            "           1       0.94      0.96      0.95        53\n",
            "           2       0.90      0.95      0.92        55\n",
            "\n",
            "    accuracy                           0.94       158\n",
            "   macro avg       0.94      0.94      0.94       158\n",
            "weighted avg       0.94      0.94      0.94       158\n",
            "\n"
          ]
        }
      ],
      "source": [
        "# Random Forest\n",
        "rf_model = RandomForestClassifier(n_estimators=100, random_state=42, max_features=\"sqrt\", max_depth=20)\n",
        "rf_model.fit(X_train, y_train)\n",
        "\n",
        "# Predictions and evaluation for Random Forest\n",
        "rf_predictions = rf_model.predict(X_test)\n",
        "rf_accuracy = accuracy_score(y_test, rf_predictions)\n",
        "print(\"Random Forest Accuracy:\", rf_accuracy)\n",
        "print(\"Random Forest Classification Report:\\n\", classification_report(y_test, rf_predictions))"
      ]
    },
    {
      "cell_type": "code",
      "execution_count": 61,
      "metadata": {
        "colab": {
          "base_uri": "https://localhost:8080/"
        },
        "id": "ZX5eLxJDPZP4",
        "outputId": "a843489b-cbac-41ed-d2e5-66d535489e61"
      },
      "outputs": [
        {
          "name": "stdout",
          "output_type": "stream",
          "text": [
            "Requirement already satisfied: xgboost in /Users/jonathankoong/Documents/GitHub/ESP32-WiFi-Sensing/env/lib/python3.13/site-packages (3.0.5)\n",
            "Requirement already satisfied: numpy in /Users/jonathankoong/Documents/GitHub/ESP32-WiFi-Sensing/env/lib/python3.13/site-packages (from xgboost) (2.3.3)\n",
            "Requirement already satisfied: scipy in /Users/jonathankoong/Documents/GitHub/ESP32-WiFi-Sensing/env/lib/python3.13/site-packages (from xgboost) (1.16.2)\n"
          ]
        }
      ],
      "source": [
        "!pip install xgboost"
      ]
    },
    {
      "cell_type": "code",
      "execution_count": 62,
      "metadata": {
        "colab": {
          "base_uri": "https://localhost:8080/"
        },
        "id": "8q2slxIrPdbn",
        "outputId": "ea93862d-a6b1-481d-b17b-5e64d8b9dbbd"
      },
      "outputs": [
        {
          "name": "stdout",
          "output_type": "stream",
          "text": [
            "XGBoost Accuracy: 0.9113924050632911\n",
            "XGBoost Classification Report:\n",
            "               precision    recall  f1-score   support\n",
            "\n",
            "           0       0.90      0.90      0.90        50\n",
            "           1       0.94      0.94      0.94        53\n",
            "           2       0.89      0.89      0.89        55\n",
            "\n",
            "    accuracy                           0.91       158\n",
            "   macro avg       0.91      0.91      0.91       158\n",
            "weighted avg       0.91      0.91      0.91       158\n",
            "\n"
          ]
        }
      ],
      "source": [
        "import xgboost as xgb\n",
        "\n",
        "# XGBoost Classifier\n",
        "xgb_model = xgb.XGBClassifier(objective='multi:softmax', num_class=3, random_state=42)\n",
        "xgb_model.fit(X_train, y_train)\n",
        "\n",
        "# Predictions and evaluation\n",
        "xgb_predictions = xgb_model.predict(X_test)\n",
        "xgb_accuracy = accuracy_score(y_test, xgb_predictions)\n",
        "print(\"XGBoost Accuracy:\", xgb_accuracy)\n",
        "print(\"XGBoost Classification Report:\\n\", classification_report(y_test, xgb_predictions))"
      ]
    }
  ],
  "metadata": {
    "colab": {
      "provenance": []
    },
    "kernelspec": {
      "display_name": "env",
      "language": "python",
      "name": "python3"
    },
    "language_info": {
      "codemirror_mode": {
        "name": "ipython",
        "version": 3
      },
      "file_extension": ".py",
      "mimetype": "text/x-python",
      "name": "python",
      "nbconvert_exporter": "python",
      "pygments_lexer": "ipython3",
      "version": "3.13.7"
    }
  },
  "nbformat": 4,
  "nbformat_minor": 0
}
